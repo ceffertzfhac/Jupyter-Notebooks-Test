{
 "cells": [
  {
   "cell_type": "markdown",
   "id": "33c1d947",
   "metadata": {},
   "source": [
    "# Physik WS21/22 FH Aachen"
   ]
  },
  {
   "cell_type": "code",
   "execution_count": 15,
   "id": "724824e0",
   "metadata": {},
   "outputs": [],
   "source": [
    "import sys\n",
    "import numpy as np\n",
    "import matplotlib\n",
    "import matplotlib.pyplot as plt\n",
    "import matplotlib.animation as animation\n",
    "from scipy.integrate import ode as ode\n",
    "from matplotlib import cm\n",
    "from itertools import product\n",
    "from matplotlib.patches import Circle\n",
    "import pandas as pd\n",
    "from IPython.display import display, HTML\n",
    "from matplotlib.backends.backend_pdf import PdfPages\n",
    "from sklearn.linear_model import LinearRegression\n",
    "\n",
    "%matplotlib inline\n",
    "\n",
    "plt.rcParams.update({'font.family':'serif'})\n",
    "plt.rcParams.update({'mathtext.fontset':'stix'})\n",
    "\n",
    "\n"
   ]
  },
  {
   "cell_type": "markdown",
   "id": "f5c2efa7",
   "metadata": {},
   "source": [
    "# Praktikum"
   ]
  },
  {
   "cell_type": "code",
   "execution_count": 16,
   "id": "1320c99c",
   "metadata": {},
   "outputs": [],
   "source": [
    "G=81500\n",
    "n=263\n",
    "D_m=10\n",
    "d=1.0\n",
    "u=4.00\n",
    "v=-3.00\n",
    "a=1/8\n",
    "k=a*d**u*D_m**v*G/n"
   ]
  },
  {
   "cell_type": "code",
   "execution_count": 17,
   "id": "9850981c",
   "metadata": {},
   "outputs": [
    {
     "name": "stdout",
     "output_type": "stream",
     "text": [
      "0.03873574144486692\n"
     ]
    }
   ],
   "source": [
    "print(k)"
   ]
  },
  {
   "cell_type": "markdown",
   "id": "84841339",
   "metadata": {},
   "source": [
    "## Glühlampenversuch"
   ]
  },
  {
   "cell_type": "markdown",
   "id": "3e0a86c1",
   "metadata": {},
   "source": [
    "### Aufgabe 1"
   ]
  },
  {
   "cell_type": "code",
   "execution_count": 18,
   "id": "b8394116",
   "metadata": {},
   "outputs": [
    {
     "data": {
      "image/png": "[encoded data removed]",
      "text/plain": [
       "<Figure size 432x288 with 1 Axes>"
      ]
     },
     "metadata": {
      "needs_background": "light"
     },
     "output_type": "display_data"
    }
   ],
   "source": [
    "fig, ax = plt.subplots()\n",
    "\n",
    "\n",
    "#-- Set axis spines at 0\n",
    "for spine in ['left', 'bottom']:\n",
    "    ax.spines[spine].set_position('zero')\n",
    "\n",
    "# Hide the other spines...\n",
    "for spine in ['right', 'top']:\n",
    "    ax.spines[spine].set_color('none')\n",
    "\n",
    "#-- Decorate the spins\n",
    "arrow_length = 30 # In points\n",
    "\n",
    "# X-axis arrow\n",
    "ax.annotate('', xy=(0.99, 0), xycoords=('axes fraction', 'data'), \n",
    "            xytext=(arrow_length, 0), textcoords='offset points',\n",
    "            arrowprops=dict(arrowstyle='<|-', fc='black'))\n",
    "\n",
    "# Y-axis arrow\n",
    "ax.annotate('', xy=(0, 0.99), xycoords=('data', 'axes fraction'), \n",
    "            xytext=(0, arrow_length), textcoords='offset points',\n",
    "            arrowprops=dict(arrowstyle='<|-', fc='black'))\n",
    "\n",
    "\n",
    "\n",
    "\n",
    "U_1=np.array([0,0.9,1.33,3.86,4.46,6.21,7.72,9.29,10.97,11.64])\n",
    "I_1=np.array([0,0.12,0.14,0.21,0.23,0.26,0.29,0.32,0.35,0.38])\n",
    "\n",
    "\n",
    "plt.xlabel(r'$U$ / V')\n",
    "plt.ylabel(r'$I$ / A')\n",
    "plt.rc('grid', linestyle=':', color='red', linewidth=0.5)\n",
    "plt.plot(U_1,I_1,marker='X',linestyle='')\n",
    "plt.grid(True)\n",
    "plt.savefig('gluehlampe_aufgabe1_6.eps')"
   ]
  },
  {
   "cell_type": "markdown",
   "id": "9be00b93",
   "metadata": {},
   "source": [
    "### Aufgabe 2"
   ]
  },
  {
   "cell_type": "code",
   "execution_count": 19,
   "id": "693970d6",
   "metadata": {},
   "outputs": [],
   "source": [
    "U_2_alt=np.array([0.0044,0.119,0.197,0.266,0.31,0.41,0.5,0.6,0.72,0.88])\n",
    "I_2_alt=np.array([3.9,10.5,17.4,23.3,28.1,36.5,43.9,52.6,62.0,74.0])\n",
    "\n",
    "\n",
    "U_2_neu=np.array([44,63,22,47,68,78,83,88,95,101,110,120,130,136,157,175,197,239,335,430,469,541,681,875,1151,1432,1640])\n",
    "U_2_neu=U_2_neu*0.001\n",
    "U_2_neu=np.sort(U_2_neu, axis=0)\n",
    "\n",
    "\n",
    "I_2_neu=np.array([18.1,25.3,9.4,19.3,26.8,30.7,32.4,34.2,36.7,38.4,41.6,44.8,47.9,49.7,55.7,60.5,66.1,75.9,93.2,106.3,110.7,117.9,129.2,140.7,152.9,162.7,169.3])\n",
    "I_2_neu=I_2_neu*0.001\n",
    "I_2_neu=np.sort(I_2_neu, axis=0)\n",
    "\n",
    "\n",
    "U_2=U_2_neu\n",
    "I_2=I_2_neu"
   ]
  },
  {
   "cell_type": "code",
   "execution_count": 20,
   "id": "de69dd25",
   "metadata": {},
   "outputs": [
    {
     "data": {
      "image/png": "[encoded data removed]",
      "text/plain": [
       "<Figure size 432x288 with 1 Axes>"
      ]
     },
     "metadata": {
      "needs_background": "light"
     },
     "output_type": "display_data"
    }
   ],
   "source": [
    "fig, ax = plt.subplots()\n",
    "\n",
    "#-- Set axis spines at 0\n",
    "for spine in ['left', 'bottom']:\n",
    "    ax.spines[spine].set_position('zero')\n",
    "\n",
    "# Hide the other spines...\n",
    "for spine in ['right', 'top']:\n",
    "    ax.spines[spine].set_color('none')\n",
    "\n",
    "#-- Decorate the spins\n",
    "arrow_length = 20 # In points\n",
    "\n",
    "# X-axis arrow\n",
    "ax.annotate('', xy=(1, 0), xycoords=('axes fraction', 'data'), \n",
    "            xytext=(arrow_length, 0), textcoords='offset points',\n",
    "            arrowprops=dict(arrowstyle='<|-', fc='black'))\n",
    "\n",
    "# Y-axis arrow\n",
    "ax.annotate('', xy=(0, 1), xycoords=('data', 'axes fraction'), \n",
    "            xytext=(0, arrow_length), textcoords='offset points',\n",
    "            arrowprops=dict(arrowstyle='<|-', fc='black'))\n",
    "\n",
    "plt.xlabel('U/V')\n",
    "plt.ylabel('I/A')\n",
    "plt.ylim([0,np.max(I_2)*1.05])\n",
    "plt.xlim([0,np.max(U_2)*1.05])\n",
    "\n",
    "\n",
    "plt.xlabel(r'$U$ / V')\n",
    "plt.ylabel(r'$I$ / A')\n",
    "\n",
    "plt.plot(U_2,I_2,marker='X',linestyle='')\n",
    "plt.grid(True)\n",
    "plt.savefig('gluehlampe_aufgabe2a.eps')"
   ]
  },
  {
   "cell_type": "code",
   "execution_count": 21,
   "id": "51fc9e70",
   "metadata": {},
   "outputs": [],
   "source": [
    "R_2=U_2/I_2"
   ]
  },
  {
   "cell_type": "code",
   "execution_count": 22,
   "id": "ee25e7ec",
   "metadata": {},
   "outputs": [
    {
     "data": {
      "image/png": "[encoded data removed]",
      "text/plain": [
       "<Figure size 432x288 with 1 Axes>"
      ]
     },
     "metadata": {
      "needs_background": "light"
     },
     "output_type": "display_data"
    }
   ],
   "source": [
    "fig, ax = plt.subplots()\n",
    "\n",
    "#-- Set axis spines at 0\n",
    "for spine in ['left', 'bottom']:\n",
    "    ax.spines[spine].set_position('zero')\n",
    "\n",
    "# Hide the other spines...\n",
    "for spine in ['right', 'top']:\n",
    "    ax.spines[spine].set_color('none')\n",
    "\n",
    "#-- Decorate the spins\n",
    "arrow_length = 20 # In points\n",
    "\n",
    "# X-axis arrow\n",
    "ax.annotate('', xy=(1, 0), xycoords=('axes fraction', 'data'), \n",
    "            xytext=(arrow_length, 0), textcoords='offset points',\n",
    "            arrowprops=dict(arrowstyle='<|-', fc='black'))\n",
    "\n",
    "# Y-axis arrow\n",
    "ax.annotate('', xy=(0, 1), xycoords=('data', 'axes fraction'), \n",
    "            xytext=(0, arrow_length), textcoords='offset points',\n",
    "            arrowprops=dict(arrowstyle='<|-', fc='black'))\n",
    "\n",
    "\n",
    "plt.ylim([0,np.max(R_2)*1.05])\n",
    "plt.xlim([0,np.max(U_2)*1.05])\n",
    "\n",
    "\n",
    "plt.xlabel(r'$U$ / V')\n",
    "plt.ylabel(r'$R$ / Ohm')\n",
    "\n",
    "plt.plot(U_2,R_2,marker='X',linestyle='')\n",
    "plt.grid(True)\n",
    "plt.savefig('gluehlampe_aufgabe2b.eps')"
   ]
  },
  {
   "cell_type": "code",
   "execution_count": 23,
   "id": "b14677f8",
   "metadata": {},
   "outputs": [],
   "source": [
    "ln_R_2=np.log(R_2)\n",
    "ln_U_2=np.log(U_2)"
   ]
  },
  {
   "cell_type": "code",
   "execution_count": 24,
   "id": "a5605176",
   "metadata": {},
   "outputs": [
    {
     "data": {
      "image/png": "[encoded data removed]",
      "text/plain": [
       "<Figure size 432x288 with 1 Axes>"
      ]
     },
     "metadata": {
      "needs_background": "light"
     },
     "output_type": "display_data"
    }
   ],
   "source": [
    "fig, ax = plt.subplots()\n",
    "\n",
    "#-- Set axis spines at 0\n",
    "for spine in ['left', 'bottom']:\n",
    "    ax.spines[spine].set_position('zero')\n",
    "\n",
    "# Hide the other spines...\n",
    "for spine in ['right', 'top']:\n",
    "    ax.spines[spine].set_color('none')\n",
    "\n",
    "#-- Decorate the spins\n",
    "arrow_length = 20 # In points\n",
    "\n",
    "# X-axis arrow\n",
    "ax.annotate('', xy=(1, 0), xycoords=('axes fraction', 'data'), \n",
    "            xytext=(arrow_length, 0), textcoords='offset points',\n",
    "            arrowprops=dict(arrowstyle='<|-', fc='black'))\n",
    "\n",
    "# Y-axis arrow\n",
    "ax.annotate('', xy=(0, 1), xycoords=('data', 'axes fraction'), \n",
    "            xytext=(0, arrow_length), textcoords='offset points',\n",
    "            arrowprops=dict(arrowstyle='<|-', fc='black'))\n",
    "\n",
    "\n",
    "plt.ylim([0,np.max(ln_R_2)])\n",
    "plt.xlim([np.min(ln_U_2)*1.05,np.max(ln_U_2)*1.05])\n",
    "\n",
    "\n",
    "plt.xlabel(r'$ln(U)$ / ln(V)')\n",
    "plt.ylabel(r'$ln(R)$ / ln(Ohm)')\n",
    "\n",
    "plt.plot(ln_U_2,ln_R_2,marker='X',linestyle='')\n",
    "plt.grid(True)\n",
    "plt.savefig('gluehlampe_aufgabe2c.eps')"
   ]
  },
  {
   "cell_type": "code",
   "execution_count": 25,
   "id": "95ab1cd6",
   "metadata": {},
   "outputs": [
    {
     "name": "stdout",
     "output_type": "stream",
     "text": [
      "Intercept 2.2773902952893144\n",
      "Slope [3.39743946]\n",
      "[0.022 0.044 0.047 0.063 0.068 0.078 0.083 0.088 0.095 0.101 0.11  0.12\n",
      " 0.13  0.136 0.157 0.175 0.197 0.239 0.335 0.43  0.469 0.541 0.681 0.875\n",
      " 1.151 1.432 1.64 ]\n",
      "[2.34042553 2.43093923 2.43523316 2.49011858 2.53731343 2.54071661\n",
      " 2.5617284  2.57309942 2.58855586 2.63020833 2.64423077 2.67857143\n",
      " 2.71398747 2.73641851 2.81867145 2.89256198 2.98033283 3.14888011\n",
      " 3.5944206  4.04515522 4.2366757  4.58863444 5.27089783 6.21890547\n",
      " 7.52779595 8.80147511 9.68694625]\n",
      "[0.         0.20044444 0.40088889 0.60133333 0.80177778 1.00222222\n",
      " 1.20266667 1.40311111 1.60355556 1.804     ]\n",
      "[2.2773903  2.95838816 3.63938602 4.32038389 5.00138175 5.68237962\n",
      " 6.36337748 7.04437535 7.72537321 8.40637108]\n"
     ]
    }
   ],
   "source": [
    "#Lineare Regression in Phyton\n",
    "x=15\n",
    "U_2_reshape=U_2[0:x].reshape(-1,1)\n",
    "model=LinearRegression(fit_intercept=True)\n",
    "model.fit(U_2_reshape,R_2[0:x])\n",
    "print('Intercept',model.intercept_)\n",
    "print('Slope',model.coef_)\n",
    "U_2_model=np.linspace(0,np.max(U_2)*1.1,10)\n",
    "R_2_model=U_2_model*model.coef_+model.intercept_\n",
    "R_2_0=model.intercept_\n",
    "print(U_2)\n",
    "print(R_2)\n",
    "print(U_2_model)\n",
    "print(R_2_model)"
   ]
  },
  {
   "cell_type": "code",
   "execution_count": 26,
   "id": "8453ef6d",
   "metadata": {},
   "outputs": [
    {
     "data": {
      "image/png": "[encoded data removed]",
      "text/plain": [
       "<Figure size 432x288 with 1 Axes>"
      ]
     },
     "metadata": {
      "needs_background": "light"
     },
     "output_type": "display_data"
    }
   ],
   "source": [
    "fig, ax = plt.subplots()\n",
    "\n",
    "#-- Set axis spines at 0\n",
    "for spine in ['left', 'bottom']:\n",
    "    ax.spines[spine].set_position('zero')\n",
    "\n",
    "# Hide the other spines...\n",
    "for spine in ['right', 'top']:\n",
    "    ax.spines[spine].set_color('none')\n",
    "\n",
    "#-- Decorate the spins\n",
    "arrow_length = 20 # In points\n",
    "\n",
    "# X-axis arrow\n",
    "ax.annotate('', xy=(1, 0), xycoords=('axes fraction', 'data'), \n",
    "            xytext=(arrow_length, 0), textcoords='offset points',\n",
    "            arrowprops=dict(arrowstyle='<|-', fc='black'))\n",
    "\n",
    "# Y-axis arrow\n",
    "ax.annotate('', xy=(0, 1), xycoords=('data', 'axes fraction'), \n",
    "            xytext=(0, arrow_length), textcoords='offset points',\n",
    "            arrowprops=dict(arrowstyle='<|-', fc='black'))\n",
    "\n",
    "plt.xlabel('U/V')\n",
    "plt.ylabel('I/A')\n",
    "plt.ylim([0,np.max(R_2)*1.05])\n",
    "plt.xlim([0,np.max(U_2)*1.05])\n",
    "\n",
    "\n",
    "plt.xlabel(r'$U$ / V')\n",
    "plt.ylabel(r'$I$ / A')\n",
    "\n",
    "plt.plot(U_2,R_2,marker='X',linestyle='')\n",
    "plt.plot(U_2_model,R_2_model,marker='',linestyle='-')\n",
    "plt.grid(True)\n",
    "plt.savefig('gluehlampe_aufgabe2_model.eps')"
   ]
  },
  {
   "cell_type": "code",
   "execution_count": 30,
   "id": "306d6ca1",
   "metadata": {},
   "outputs": [],
   "source": [
    "ln_R_2=np.log(R_2-R_2_0)\n",
    "ln_U_2=np.log(U_2)\n",
    "#ln_R_2_hat=savgol_filter(ln_R_2, 13, 5)\n"
   ]
  },
  {
   "cell_type": "code",
   "execution_count": 31,
   "id": "d5edb156",
   "metadata": {},
   "outputs": [
    {
     "data": {
      "image/png": "[encoded data removed]",
      "text/plain": [
       "<Figure size 432x288 with 1 Axes>"
      ]
     },
     "metadata": {
      "needs_background": "light"
     },
     "output_type": "display_data"
    }
   ],
   "source": [
    "fig, ax = plt.subplots()\n",
    "\n",
    "#-- Set axis spines at 0\n",
    "for spine in ['left', 'bottom']:\n",
    "    ax.spines[spine].set_position('zero')\n",
    "\n",
    "# Hide the other spines...\n",
    "for spine in ['right', 'top']:\n",
    "    ax.spines[spine].set_color('none')\n",
    "\n",
    "#-- Decorate the spins\n",
    "arrow_length = 20 # In points\n",
    "\n",
    "# X-axis arrow\n",
    "ax.annotate('', xy=(1, 0), xycoords=('axes fraction', 'data'), \n",
    "            xytext=(arrow_length, 0), textcoords='offset points',\n",
    "            arrowprops=dict(arrowstyle='<|-', fc='black'))\n",
    "\n",
    "# Y-axis arrow\n",
    "ax.annotate('', xy=(0, 1), xycoords=('data', 'axes fraction'), \n",
    "            xytext=(0, arrow_length), textcoords='offset points',\n",
    "            arrowprops=dict(arrowstyle='<|-', fc='black'))\n",
    "\n",
    "\n",
    "plt.ylim([np.min(ln_R_2)*1.05,np.max(ln_R_2)*1.05])\n",
    "plt.xlim([np.min(ln_U_2)*1.05,np.max(ln_U_2)*1.05])\n",
    "\n",
    "\n",
    "plt.xlabel(r'$ln(U)$ / ln(V)')\n",
    "plt.ylabel(r'$ln(R)$ / ln(Ohm)')\n",
    "\n",
    "plt.plot(ln_U_2,ln_R_2,marker='X',linestyle='')\n",
    "\n",
    "\n",
    "plt.grid(True)\n",
    "plt.savefig('gluehlampe_aufgabe2c.eps')"
   ]
  },
  {
   "cell_type": "code",
   "execution_count": 32,
   "id": "4f66ee58",
   "metadata": {},
   "outputs": [
    {
     "name": "stdout",
     "output_type": "stream",
     "text": [
      "[1.28446805 0.41815613 1.01852825 2.6235756  0.09481008 1.23559969\n",
      " 0.67033827 0.66564944 2.05127184 0.45659203 1.02843967 1.05691018\n",
      " 1.11037711 1.14789407 1.17894188 1.12629857 1.11212473 1.22289286\n",
      " 1.17897475 1.18482739 1.15677208 1.123909   1.09757316 1.04587646\n",
      " 0.9942978  0.93840076]\n"
     ]
    }
   ],
   "source": [
    "ln_RU_slope=np.zeros(np.shape(ln_R_2)[0]-1)\n",
    "for i in range(np.shape(ln_R_2)[0]-1):\n",
    "    ln_RU_slope[i]=(ln_R_2[i+1]-ln_R_2[i])/(ln_U_2[i+1]-ln_U_2[i])\n",
    "print(ln_RU_slope)\n"
   ]
  },
  {
   "cell_type": "code",
   "execution_count": null,
   "id": "af9cdea3",
   "metadata": {},
   "outputs": [],
   "source": []
  },
  {
   "cell_type": "code",
   "execution_count": 33,
   "id": "f651899b",
   "metadata": {},
   "outputs": [
    {
     "data": {
      "image/png": "[encoded data removed]",
      "text/plain": [
       "<Figure size 432x288 with 1 Axes>"
      ]
     },
     "metadata": {
      "needs_background": "light"
     },
     "output_type": "display_data"
    }
   ],
   "source": [
    "fig, ax = plt.subplots()\n",
    "\n",
    "#-- Set axis spines at 0\n",
    "for spine in ['left', 'bottom']:\n",
    "    ax.spines[spine].set_position('zero')\n",
    "\n",
    "# Hide the other spines...\n",
    "for spine in ['right', 'top']:\n",
    "    ax.spines[spine].set_color('none')\n",
    "\n",
    "#-- Decorate the spins\n",
    "arrow_length = 20 # In points\n",
    "\n",
    "# X-axis arrow\n",
    "ax.annotate('', xy=(1, 0), xycoords=('axes fraction', 'data'), \n",
    "            xytext=(arrow_length, 0), textcoords='offset points',\n",
    "            arrowprops=dict(arrowstyle='<|-', fc='black'))\n",
    "\n",
    "# Y-axis arrow\n",
    "ax.annotate('', xy=(0, 1), xycoords=('data', 'axes fraction'), \n",
    "            xytext=(0, arrow_length), textcoords='offset points',\n",
    "            arrowprops=dict(arrowstyle='<|-', fc='black'))\n",
    "\n",
    "\n",
    "plt.ylim([np.min(ln_R_2)*1.05,np.max(ln_R_2)*1.05])\n",
    "plt.xlim([np.min(U_2)*1.05,np.max(U_2)*1.05])\n",
    "\n",
    "\n",
    "plt.xlabel(r'$U$ / V')\n",
    "plt.ylabel(r'$Slope$')\n",
    "\n",
    "plt.plot(U_2[0:(np.shape(ln_RU_slope)[0])],ln_RU_slope,marker='X',linestyle='')\n",
    "\n",
    "plt.grid(True)\n",
    "plt.savefig('gluehlampe_aufgabe2c.eps')"
   ]
  },
  {
   "cell_type": "markdown",
   "id": "a6601a90",
   "metadata": {},
   "source": [
    "### Aufgabe 3"
   ]
  },
  {
   "cell_type": "code",
   "execution_count": 34,
   "id": "c72f0136",
   "metadata": {},
   "outputs": [
    {
     "name": "stdout",
     "output_type": "stream",
     "text": [
      "[2.34042553 2.43093923 2.43523316 2.49011858 2.53731343 2.54071661\n",
      " 2.5617284  2.57309942 2.58855586 2.63020833 2.64423077 2.67857143\n",
      " 2.71398747 2.73641851 2.81867145 2.89256198 2.98033283 3.14888011\n",
      " 3.5944206  4.04515522 4.2366757  4.58863444 5.27089783 6.21890547\n",
      " 7.52779595 8.80147511 9.68694625]\n"
     ]
    }
   ],
   "source": [
    "U_2.sort()\n",
    "I_2.sort()\n",
    "R_2=np.divide(U_2,I_2)\n",
    "print(R_2)"
   ]
  },
  {
   "cell_type": "code",
   "execution_count": 35,
   "id": "9879694a",
   "metadata": {},
   "outputs": [
    {
     "name": "stdout",
     "output_type": "stream",
     "text": [
      "[[2.2000e-02 4.4000e-02 4.7000e-02 6.3000e-02 6.8000e-02 7.8000e-02\n",
      "  8.3000e-02 8.8000e-02 9.5000e-02 1.0100e-01 1.1000e-01 1.2000e-01\n",
      "  1.3000e-01 1.3600e-01 1.5700e-01 1.7500e-01 1.9700e-01 2.3900e-01\n",
      "  3.3500e-01 4.3000e-01 4.6900e-01 5.4100e-01 6.8100e-01 8.7500e-01\n",
      "  1.1510e+00 1.4320e+00 1.6400e+00]\n",
      " [9.4000e-03 1.8100e-02 1.9300e-02 2.5300e-02 2.6800e-02 3.0700e-02\n",
      "  3.2400e-02 3.4200e-02 3.6700e-02 3.8400e-02 4.1600e-02 4.4800e-02\n",
      "  4.7900e-02 4.9700e-02 5.5700e-02 6.0500e-02 6.6100e-02 7.5900e-02\n",
      "  9.3200e-02 1.0630e-01 1.1070e-01 1.1790e-01 1.2920e-01 1.4070e-01\n",
      "  1.5290e-01 1.6270e-01 1.6930e-01]\n",
      " [2.3404e+00 2.4309e+00 2.4352e+00 2.4901e+00 2.5373e+00 2.5407e+00\n",
      "  2.5617e+00 2.5731e+00 2.5886e+00 2.6302e+00 2.6442e+00 2.6786e+00\n",
      "  2.7140e+00 2.7364e+00 2.8187e+00 2.8926e+00 2.9803e+00 3.1489e+00\n",
      "  3.5944e+00 4.0452e+00 4.2367e+00 4.5886e+00 5.2709e+00 6.2189e+00\n",
      "  7.5278e+00 8.8015e+00 9.6869e+00]]\n"
     ]
    }
   ],
   "source": [
    "results=np.vstack((U_2,I_2,R_2))\n",
    "results=np.around(results,4,out=None)\n",
    "print(results)"
   ]
  },
  {
   "cell_type": "code",
   "execution_count": 36,
   "id": "ecc88c31",
   "metadata": {},
   "outputs": [
    {
     "name": "stdout",
     "output_type": "stream",
     "text": [
      "[[2.2000e-02 4.4000e-02 4.7000e-02 6.3000e-02 6.8000e-02 7.8000e-02\n",
      "  8.3000e-02 8.8000e-02 9.5000e-02 1.0100e-01 1.1000e-01 1.2000e-01\n",
      "  1.3000e-01 1.3600e-01 1.5700e-01 1.7500e-01 1.9700e-01 2.3900e-01\n",
      "  3.3500e-01 4.3000e-01 4.6900e-01 5.4100e-01 6.8100e-01 8.7500e-01\n",
      "  1.1510e+00 1.4320e+00 1.6400e+00]\n",
      " [9.4000e-03 1.8100e-02 1.9300e-02 2.5300e-02 2.6800e-02 3.0700e-02\n",
      "  3.2400e-02 3.4200e-02 3.6700e-02 3.8400e-02 4.1600e-02 4.4800e-02\n",
      "  4.7900e-02 4.9700e-02 5.5700e-02 6.0500e-02 6.6100e-02 7.5900e-02\n",
      "  9.3200e-02 1.0630e-01 1.1070e-01 1.1790e-01 1.2920e-01 1.4070e-01\n",
      "  1.5290e-01 1.6270e-01 1.6930e-01]\n",
      " [2.3404e+00 2.4309e+00 2.4352e+00 2.4901e+00 2.5373e+00 2.5407e+00\n",
      "  2.5617e+00 2.5731e+00 2.5886e+00 2.6302e+00 2.6442e+00 2.6786e+00\n",
      "  2.7140e+00 2.7364e+00 2.8187e+00 2.8926e+00 2.9803e+00 3.1489e+00\n",
      "  3.5944e+00 4.0452e+00 4.2367e+00 4.5886e+00 5.2709e+00 6.2189e+00\n",
      "  7.5278e+00 8.8015e+00 9.6869e+00]]\n",
      "           0       1       2       3       4       5       6       7       8   \\\n",
      "U/V    0.0220  0.0440  0.0470  0.0630  0.0680  0.0780  0.0830  0.0880  0.0950   \n",
      "I/A    0.0094  0.0181  0.0193  0.0253  0.0268  0.0307  0.0324  0.0342  0.0367   \n",
      "R/Ohm  2.3404  2.4309  2.4352  2.4901  2.5373  2.5407  2.5617  2.5731  2.5886   \n",
      "\n",
      "           9   ...      17      18      19      20      21      22      23  \\\n",
      "U/V    0.1010  ...  0.2390  0.3350  0.4300  0.4690  0.5410  0.6810  0.8750   \n",
      "I/A    0.0384  ...  0.0759  0.0932  0.1063  0.1107  0.1179  0.1292  0.1407   \n",
      "R/Ohm  2.6302  ...  3.1489  3.5944  4.0452  4.2367  4.5886  5.2709  6.2189   \n",
      "\n",
      "           24      25      26  \n",
      "U/V    1.1510  1.4320  1.6400  \n",
      "I/A    0.1529  0.1627  0.1693  \n",
      "R/Ohm  7.5278  8.8015  9.6869  \n",
      "\n",
      "[3 rows x 27 columns]\n"
     ]
    },
    {
     "data": {
      "text/html": [
       "<table border=\"1\" class=\"dataframe\">\n",
       "  <thead>\n",
       "    <tr style=\"text-align: right;\">\n",
       "      <th></th>\n",
       "      <th>0</th>\n",
       "      <th>1</th>\n",
       "      <th>2</th>\n",
       "      <th>3</th>\n",
       "      <th>4</th>\n",
       "      <th>5</th>\n",
       "      <th>6</th>\n",
       "      <th>7</th>\n",
       "      <th>8</th>\n",
       "      <th>9</th>\n",
       "      <th>10</th>\n",
       "      <th>11</th>\n",
       "      <th>12</th>\n",
       "      <th>13</th>\n",
       "      <th>14</th>\n",
       "      <th>15</th>\n",
       "      <th>16</th>\n",
       "      <th>17</th>\n",
       "      <th>18</th>\n",
       "      <th>19</th>\n",
       "      <th>20</th>\n",
       "      <th>21</th>\n",
       "      <th>22</th>\n",
       "      <th>23</th>\n",
       "      <th>24</th>\n",
       "      <th>25</th>\n",
       "      <th>26</th>\n",
       "    </tr>\n",
       "  </thead>\n",
       "  <tbody>\n",
       "    <tr>\n",
       "      <th>U/V</th>\n",
       "      <td>0.0220</td>\n",
       "      <td>0.0440</td>\n",
       "      <td>0.0470</td>\n",
       "      <td>0.0630</td>\n",
       "      <td>0.0680</td>\n",
       "      <td>0.0780</td>\n",
       "      <td>0.0830</td>\n",
       "      <td>0.0880</td>\n",
       "      <td>0.0950</td>\n",
       "      <td>0.1010</td>\n",
       "      <td>0.1100</td>\n",
       "      <td>0.1200</td>\n",
       "      <td>0.1300</td>\n",
       "      <td>0.1360</td>\n",
       "      <td>0.1570</td>\n",
       "      <td>0.1750</td>\n",
       "      <td>0.1970</td>\n",
       "      <td>0.2390</td>\n",
       "      <td>0.3350</td>\n",
       "      <td>0.4300</td>\n",
       "      <td>0.4690</td>\n",
       "      <td>0.5410</td>\n",
       "      <td>0.6810</td>\n",
       "      <td>0.8750</td>\n",
       "      <td>1.1510</td>\n",
       "      <td>1.4320</td>\n",
       "      <td>1.6400</td>\n",
       "    </tr>\n",
       "    <tr>\n",
       "      <th>I/A</th>\n",
       "      <td>0.0094</td>\n",
       "      <td>0.0181</td>\n",
       "      <td>0.0193</td>\n",
       "      <td>0.0253</td>\n",
       "      <td>0.0268</td>\n",
       "      <td>0.0307</td>\n",
       "      <td>0.0324</td>\n",
       "      <td>0.0342</td>\n",
       "      <td>0.0367</td>\n",
       "      <td>0.0384</td>\n",
       "      <td>0.0416</td>\n",
       "      <td>0.0448</td>\n",
       "      <td>0.0479</td>\n",
       "      <td>0.0497</td>\n",
       "      <td>0.0557</td>\n",
       "      <td>0.0605</td>\n",
       "      <td>0.0661</td>\n",
       "      <td>0.0759</td>\n",
       "      <td>0.0932</td>\n",
       "      <td>0.1063</td>\n",
       "      <td>0.1107</td>\n",
       "      <td>0.1179</td>\n",
       "      <td>0.1292</td>\n",
       "      <td>0.1407</td>\n",
       "      <td>0.1529</td>\n",
       "      <td>0.1627</td>\n",
       "      <td>0.1693</td>\n",
       "    </tr>\n",
       "    <tr>\n",
       "      <th>R/Ohm</th>\n",
       "      <td>2.3404</td>\n",
       "      <td>2.4309</td>\n",
       "      <td>2.4352</td>\n",
       "      <td>2.4901</td>\n",
       "      <td>2.5373</td>\n",
       "      <td>2.5407</td>\n",
       "      <td>2.5617</td>\n",
       "      <td>2.5731</td>\n",
       "      <td>2.5886</td>\n",
       "      <td>2.6302</td>\n",
       "      <td>2.6442</td>\n",
       "      <td>2.6786</td>\n",
       "      <td>2.7140</td>\n",
       "      <td>2.7364</td>\n",
       "      <td>2.8187</td>\n",
       "      <td>2.8926</td>\n",
       "      <td>2.9803</td>\n",
       "      <td>3.1489</td>\n",
       "      <td>3.5944</td>\n",
       "      <td>4.0452</td>\n",
       "      <td>4.2367</td>\n",
       "      <td>4.5886</td>\n",
       "      <td>5.2709</td>\n",
       "      <td>6.2189</td>\n",
       "      <td>7.5278</td>\n",
       "      <td>8.8015</td>\n",
       "      <td>9.6869</td>\n",
       "    </tr>\n",
       "  </tbody>\n",
       "</table>"
      ],
      "text/plain": [
       "<IPython.core.display.HTML object>"
      ]
     },
     "metadata": {},
     "output_type": "display_data"
    }
   ],
   "source": [
    "results_3=np.vstack((U_2,I_2,R_2))\n",
    "results_3=np.around(results,4,out=None)\n",
    "print(results_3)\n",
    "\n",
    "\n",
    "panda_df = pd.DataFrame(data = results_3,  \n",
    "                        index = [\"U/V\", \"I/A\", \"R/Ohm\"]) \n",
    "  \n",
    "print(panda_df) \n",
    "display(HTML(panda_df.to_html()))\n",
    "#%panda_df.to_latex() #USE IF EXPORT TO LATEX IS NEEDED!!"
   ]
  },
  {
   "cell_type": "code",
   "execution_count": 37,
   "id": "e6ab1a58",
   "metadata": {},
   "outputs": [
    {
     "data": {
      "image/png": "[encoded data removed]",
      "text/plain": [
       "<Figure size 432x288 with 1 Axes>"
      ]
     },
     "metadata": {
      "needs_background": "light"
     },
     "output_type": "display_data"
    }
   ],
   "source": [
    "fig, ax = plt.subplots()\n",
    "\n",
    "#-- Set axis spines at 0\n",
    "for spine in ['left', 'bottom']:\n",
    "    ax.spines[spine].set_position('zero')\n",
    "\n",
    "# Hide the other spines...\n",
    "for spine in ['right', 'top']:\n",
    "    ax.spines[spine].set_color('none')\n",
    "\n",
    "#-- Decorate the spins\n",
    "arrow_length = 20 # In points\n",
    "\n",
    "# X-axis arrow\n",
    "ax.annotate('', xy=(1, 0), xycoords=('axes fraction', 'data'), \n",
    "            xytext=(arrow_length, 0), textcoords='offset points',\n",
    "            arrowprops=dict(arrowstyle='<|-', fc='black'))\n",
    "\n",
    "# Y-axis arrow\n",
    "ax.annotate('', xy=(0, 1), xycoords=('data', 'axes fraction'), \n",
    "            xytext=(0, arrow_length), textcoords='offset points',\n",
    "            arrowprops=dict(arrowstyle='<|-', fc='black'))\n",
    "\n",
    "plt.xlabel('U/V')\n",
    "plt.ylabel('I/A')\n",
    "plt.ylim([0,np.max(R_2)*1.05])\n",
    "plt.xlim([0,np.max(U_2)*1.05])\n",
    "\n",
    "\n",
    "plt.xlabel(r'$U$ / V')\n",
    "plt.ylabel(r'$R$ / Ohm')\n",
    "\n",
    "plt.plot(U_2,R_2,marker='X',linestyle='')\n",
    "plt.grid(True)\n",
    "plt.savefig('gluehlampe_aufgabe2_model.eps')"
   ]
  },
  {
   "cell_type": "code",
   "execution_count": 38,
   "id": "4f245cd8",
   "metadata": {},
   "outputs": [
    {
     "name": "stdout",
     "output_type": "stream",
     "text": [
      "Intercept 2.143510845838726\n",
      "Slope [4.61113988]\n"
     ]
    }
   ],
   "source": [
    "#Lineare Regression in Phyton\n",
    "U_2_reshape=U_2.reshape(-1,1)\n",
    "model=LinearRegression(fit_intercept=True)\n",
    "model.fit(U_2_reshape,R_2)\n",
    "print('Intercept',model.intercept_)\n",
    "print('Slope',model.coef_)\n",
    "U_2_model=np.linspace(0,np.max(U_2)*1.1,10)\n",
    "R_2_model=U_2_model*model.coef_+model.intercept_"
   ]
  },
  {
   "cell_type": "code",
   "execution_count": 39,
   "id": "83b30697",
   "metadata": {},
   "outputs": [
    {
     "data": {
      "image/png": "[encoded data removed]",
      "text/plain": [
       "<Figure size 432x288 with 1 Axes>"
      ]
     },
     "metadata": {
      "needs_background": "light"
     },
     "output_type": "display_data"
    }
   ],
   "source": [
    "fig, ax = plt.subplots()\n",
    "\n",
    "#-- Set axis spines at 0\n",
    "for spine in ['left', 'bottom']:\n",
    "    ax.spines[spine].set_position('zero')\n",
    "\n",
    "# Hide the other spines...\n",
    "for spine in ['right', 'top']:\n",
    "    ax.spines[spine].set_color('none')\n",
    "\n",
    "#-- Decorate the spins\n",
    "arrow_length = 20 # In points\n",
    "\n",
    "# X-axis arrow\n",
    "ax.annotate('', xy=(1, 0), xycoords=('axes fraction', 'data'), \n",
    "            xytext=(arrow_length, 0), textcoords='offset points',\n",
    "            arrowprops=dict(arrowstyle='<|-', fc='black'))\n",
    "\n",
    "# Y-axis arrow\n",
    "ax.annotate('', xy=(0, 1), xycoords=('data', 'axes fraction'), \n",
    "            xytext=(0, arrow_length), textcoords='offset points',\n",
    "            arrowprops=dict(arrowstyle='<|-', fc='black'))\n",
    "\n",
    "plt.xlabel('U/V')\n",
    "plt.ylabel('I/A')\n",
    "plt.ylim([0,np.max(R_2)*1.05])\n",
    "plt.xlim([0,np.max(U_2)*1.05])\n",
    "\n",
    "\n",
    "plt.xlabel(r'$U$ / V')\n",
    "plt.ylabel(r'$R$ / Ohm')\n",
    "plt.plot(U_2,R_2,marker='X',linestyle='')\n",
    "plt.plot(U_2_model,R_2_model,marker='',linestyle='-')\n",
    "plt.grid(True)\n",
    "plt.savefig('gluehlampe_aufgabe2_model.eps')"
   ]
  },
  {
   "cell_type": "markdown",
   "id": "7112381f",
   "metadata": {},
   "source": [
    "### Aufgabe 6"
   ]
  },
  {
   "cell_type": "code",
   "execution_count": 40,
   "id": "25bb9776",
   "metadata": {},
   "outputs": [
    {
     "name": "stdout",
     "output_type": "stream",
     "text": [
      "[0.02 0.2  0.26 0.36 0.49 0.51 0.69 0.79 0.82 0.92] [0.363 0.357 0.358 0.368 0.38  0.406 0.38  0.4   0.394 0.428] [0.363 0.357 0.358 0.368 0.38  0.406 0.38  0.4   0.394 0.428]\n"
     ]
    }
   ],
   "source": [
    "I=1\n",
    "U_6=np.array([0.363,0.357,0.358,0.368,0.380,0.406,0.380,0.400,0.394,0.428])\n",
    "l=np.array([0.02,0.20,0.26,0.36,0.49,0.51,0.69,0.79,0.82,0.92])\n",
    "R_6=U_6/I\n",
    "print(l,U_6,R_6)"
   ]
  },
  {
   "cell_type": "code",
   "execution_count": 41,
   "id": "5a3e00fc",
   "metadata": {},
   "outputs": [
    {
     "name": "stdout",
     "output_type": "stream",
     "text": [
      "[[0.02 0.2  0.26 0.36 0.49 0.51 0.69 0.79 0.82 0.92]\n",
      " [0.36 0.36 0.36 0.37 0.38 0.41 0.38 0.4  0.39 0.43]\n",
      " [0.36 0.36 0.36 0.37 0.38 0.41 0.38 0.4  0.39 0.43]]\n",
      "          0     1     2     3     4     5     6     7     8     9\n",
      "l/m    0.02  0.20  0.26  0.36  0.49  0.51  0.69  0.79  0.82  0.92\n",
      "U/V    0.36  0.36  0.36  0.37  0.38  0.41  0.38  0.40  0.39  0.43\n",
      "R/Ohm  0.36  0.36  0.36  0.37  0.38  0.41  0.38  0.40  0.39  0.43\n"
     ]
    },
    {
     "data": {
      "text/html": [
       "<table border=\"1\" class=\"dataframe\">\n",
       "  <thead>\n",
       "    <tr style=\"text-align: right;\">\n",
       "      <th></th>\n",
       "      <th>0</th>\n",
       "      <th>1</th>\n",
       "      <th>2</th>\n",
       "      <th>3</th>\n",
       "      <th>4</th>\n",
       "      <th>5</th>\n",
       "      <th>6</th>\n",
       "      <th>7</th>\n",
       "      <th>8</th>\n",
       "      <th>9</th>\n",
       "    </tr>\n",
       "  </thead>\n",
       "  <tbody>\n",
       "    <tr>\n",
       "      <th>l/m</th>\n",
       "      <td>0.02</td>\n",
       "      <td>0.20</td>\n",
       "      <td>0.26</td>\n",
       "      <td>0.36</td>\n",
       "      <td>0.49</td>\n",
       "      <td>0.51</td>\n",
       "      <td>0.69</td>\n",
       "      <td>0.79</td>\n",
       "      <td>0.82</td>\n",
       "      <td>0.92</td>\n",
       "    </tr>\n",
       "    <tr>\n",
       "      <th>U/V</th>\n",
       "      <td>0.36</td>\n",
       "      <td>0.36</td>\n",
       "      <td>0.36</td>\n",
       "      <td>0.37</td>\n",
       "      <td>0.38</td>\n",
       "      <td>0.41</td>\n",
       "      <td>0.38</td>\n",
       "      <td>0.40</td>\n",
       "      <td>0.39</td>\n",
       "      <td>0.43</td>\n",
       "    </tr>\n",
       "    <tr>\n",
       "      <th>R/Ohm</th>\n",
       "      <td>0.36</td>\n",
       "      <td>0.36</td>\n",
       "      <td>0.36</td>\n",
       "      <td>0.37</td>\n",
       "      <td>0.38</td>\n",
       "      <td>0.41</td>\n",
       "      <td>0.38</td>\n",
       "      <td>0.40</td>\n",
       "      <td>0.39</td>\n",
       "      <td>0.43</td>\n",
       "    </tr>\n",
       "  </tbody>\n",
       "</table>"
      ],
      "text/plain": [
       "<IPython.core.display.HTML object>"
      ]
     },
     "metadata": {},
     "output_type": "display_data"
    }
   ],
   "source": [
    "results_6=np.vstack((l,U_6,R_6))\n",
    "results_6=np.around(results_6,2,out=None)\n",
    "print(results_6)\n",
    "\n",
    "\n",
    "panda_df_6 = pd.DataFrame(data = results_6,  \n",
    "                        index = [\"l/m\", \"U/V\", \"R/Ohm\"]) \n",
    "  \n",
    "print(panda_df_6) \n",
    "display(HTML(panda_df_6.to_html()))\n",
    "#panda_df.to_latextex() USE IF EXPORT TO LATEX IS NEEDED!!"
   ]
  },
  {
   "cell_type": "code",
   "execution_count": 42,
   "id": "21d26d98",
   "metadata": {},
   "outputs": [
    {
     "data": {
      "image/png": "[encoded data removed]",
      "text/plain": [
       "<Figure size 432x288 with 1 Axes>"
      ]
     },
     "metadata": {
      "needs_background": "light"
     },
     "output_type": "display_data"
    }
   ],
   "source": [
    "fig, ax = plt.subplots()\n",
    "\n",
    "#-- Set axis spines at 0\n",
    "for spine in ['left', 'bottom']:\n",
    "    ax.spines[spine].set_position('zero')\n",
    "\n",
    "# Hide the other spines...\n",
    "for spine in ['right', 'top']:\n",
    "    ax.spines[spine].set_color('none')\n",
    "\n",
    "#-- Decorate the spins\n",
    "arrow_length = 20 # In points\n",
    "\n",
    "# X-axis arrow\n",
    "ax.annotate('', xy=(1, 0), xycoords=('axes fraction', 'data'), \n",
    "            xytext=(arrow_length, 0), textcoords='offset points',\n",
    "            arrowprops=dict(arrowstyle='<|-', fc='black'))\n",
    "\n",
    "# Y-axis arrow\n",
    "ax.annotate('', xy=(0, 1), xycoords=('data', 'axes fraction'), \n",
    "            xytext=(0, arrow_length), textcoords='offset points',\n",
    "            arrowprops=dict(arrowstyle='<|-', fc='black'))\n",
    "\n",
    "plt.ylabel('R/Ohm')\n",
    "plt.xlabel('l/m')\n",
    "plt.ylim([0,np.max(R_6)*1.05])\n",
    "plt.xlim([0,np.max(l)*1.05])\n",
    "\n",
    "\n",
    "plt.plot(l,R_6,marker='X',linestyle='')\n",
    "plt.savefig('gluehlampe_aufgabe6.pdf')"
   ]
  },
  {
   "cell_type": "markdown",
   "id": "87f31f3c",
   "metadata": {},
   "source": [
    "### Aufgabe 7"
   ]
  },
  {
   "cell_type": "code",
   "execution_count": 43,
   "id": "958db794",
   "metadata": {},
   "outputs": [],
   "source": [
    "U_7=np.array([0.19,0.43,0.64,0.78,1.10,1.52,1.76,2.14,2.34,2.70])\n",
    "I_7=np.array([0.07,0.16,0.23,0.30,0.43,0.57,0.63,0.75,0.88,0.93])"
   ]
  },
  {
   "cell_type": "code",
   "execution_count": 44,
   "id": "44599e36",
   "metadata": {},
   "outputs": [
    {
     "data": {
      "text/html": [
       "<table border=\"1\" class=\"dataframe\">\n",
       "  <thead>\n",
       "    <tr style=\"text-align: right;\">\n",
       "      <th></th>\n",
       "      <th>0</th>\n",
       "      <th>1</th>\n",
       "      <th>2</th>\n",
       "      <th>3</th>\n",
       "      <th>4</th>\n",
       "      <th>5</th>\n",
       "      <th>6</th>\n",
       "      <th>7</th>\n",
       "      <th>8</th>\n",
       "      <th>9</th>\n",
       "    </tr>\n",
       "  </thead>\n",
       "  <tbody>\n",
       "    <tr>\n",
       "      <th>U/V</th>\n",
       "      <td>0.19</td>\n",
       "      <td>0.43</td>\n",
       "      <td>0.64</td>\n",
       "      <td>0.78</td>\n",
       "      <td>1.10</td>\n",
       "      <td>1.52</td>\n",
       "      <td>1.76</td>\n",
       "      <td>2.14</td>\n",
       "      <td>2.34</td>\n",
       "      <td>2.70</td>\n",
       "    </tr>\n",
       "    <tr>\n",
       "      <th>I/A</th>\n",
       "      <td>0.07</td>\n",
       "      <td>0.16</td>\n",
       "      <td>0.23</td>\n",
       "      <td>0.30</td>\n",
       "      <td>0.43</td>\n",
       "      <td>0.57</td>\n",
       "      <td>0.63</td>\n",
       "      <td>0.75</td>\n",
       "      <td>0.88</td>\n",
       "      <td>0.93</td>\n",
       "    </tr>\n",
       "  </tbody>\n",
       "</table>"
      ],
      "text/plain": [
       "<IPython.core.display.HTML object>"
      ]
     },
     "metadata": {},
     "output_type": "display_data"
    }
   ],
   "source": [
    "results_7=np.vstack((U_7,I_7))\n",
    "results_7=np.around(results_7,2,out=None)\n",
    "#print(results_7)\n",
    "\n",
    "\n",
    "panda_df_7 = pd.DataFrame(data = results_7,  \n",
    "                        index = [\"U/V\", \"I/A\"]) \n",
    "  \n",
    "#print(panda_df_6) \n",
    "display(HTML(panda_df_7.to_html()))\n",
    "#panda_df.to_latextex() USE IF EXPORT TO LATEX IS NEEDED!!"
   ]
  },
  {
   "cell_type": "code",
   "execution_count": 45,
   "id": "432c8568",
   "metadata": {},
   "outputs": [
    {
     "data": {
      "image/png": "[encoded data removed]",
      "text/plain": [
       "<Figure size 432x288 with 1 Axes>"
      ]
     },
     "metadata": {
      "needs_background": "light"
     },
     "output_type": "display_data"
    }
   ],
   "source": [
    "fig, ax = plt.subplots()\n",
    "\n",
    "#-- Set axis spines at 0\n",
    "for spine in ['left', 'bottom']:\n",
    "    ax.spines[spine].set_position('zero')\n",
    "\n",
    "# Hide the other spines...\n",
    "for spine in ['right', 'top']:\n",
    "    ax.spines[spine].set_color('none')\n",
    "\n",
    "#-- Decorate the spins\n",
    "arrow_length = 20 # In points\n",
    "\n",
    "# X-axis arrow\n",
    "ax.annotate('', xy=(1, 0), xycoords=('axes fraction', 'data'), \n",
    "            xytext=(arrow_length, 0), textcoords='offset points',\n",
    "            arrowprops=dict(arrowstyle='<|-', fc='black'))\n",
    "\n",
    "# Y-axis arrow\n",
    "ax.annotate('', xy=(0, 1), xycoords=('data', 'axes fraction'), \n",
    "            xytext=(0, arrow_length), textcoords='offset points',\n",
    "            arrowprops=dict(arrowstyle='<|-', fc='black'))\n",
    "\n",
    "plt.ylabel('U/V')\n",
    "plt.xlabel('I/A')\n",
    "plt.xlim([0,np.max(I_7)*1.05])\n",
    "plt.ylim([0,np.max(U_7)*1.05])\n",
    "\n",
    "\n",
    "plt.plot(I_7,U_7,marker='X',linestyle='')\n",
    "plt.savefig('gluehlampe_aufgabe7.pdf')"
   ]
  },
  {
   "cell_type": "code",
   "execution_count": 46,
   "id": "95d24a59",
   "metadata": {},
   "outputs": [
    {
     "name": "stdout",
     "output_type": "stream",
     "text": [
      "Intercept 0.0\n",
      "Slope [2.76873153]\n"
     ]
    }
   ],
   "source": [
    "#Lineare Regression in Phyton\n",
    "I_7=I_7.reshape(-1,1)\n",
    "model=LinearRegression(fit_intercept=False)\n",
    "model.fit(I_7,U_7)\n",
    "print('Intercept',model.intercept_)\n",
    "print('Slope',model.coef_)"
   ]
  },
  {
   "cell_type": "code",
   "execution_count": 47,
   "id": "f3a13a47",
   "metadata": {},
   "outputs": [],
   "source": [
    "I_model=np.linspace(0,1,100)\n",
    "U_model=I_model*model.coef_[0]\n"
   ]
  },
  {
   "cell_type": "code",
   "execution_count": 48,
   "id": "80a066ae",
   "metadata": {},
   "outputs": [
    {
     "data": {
      "image/png": "[encoded data removed]",
      "text/plain": [
       "<Figure size 432x288 with 1 Axes>"
      ]
     },
     "metadata": {
      "needs_background": "light"
     },
     "output_type": "display_data"
    }
   ],
   "source": [
    "fig, ax = plt.subplots()\n",
    "\n",
    "#-- Set axis spines at 0\n",
    "for spine in ['left', 'bottom']:\n",
    "    ax.spines[spine].set_position('zero')\n",
    "\n",
    "# Hide the other spines...\n",
    "for spine in ['right', 'top']:\n",
    "    ax.spines[spine].set_color('none')\n",
    "\n",
    "#-- Decorate the spins\n",
    "arrow_length = 20 # In points\n",
    "\n",
    "# X-axis arrow\n",
    "ax.annotate('', xy=(1, 0), xycoords=('axes fraction', 'data'), \n",
    "            xytext=(arrow_length, 0), textcoords='offset points',\n",
    "            arrowprops=dict(arrowstyle='<|-', fc='black'))\n",
    "\n",
    "# Y-axis arrow\n",
    "ax.annotate('', xy=(0, 1), xycoords=('data', 'axes fraction'), \n",
    "            xytext=(0, arrow_length), textcoords='offset points',\n",
    "            arrowprops=dict(arrowstyle='<|-', fc='black'))\n",
    "\n",
    "plt.ylabel('U/V')\n",
    "plt.xlabel('I/A')\n",
    "plt.xlim([0,np.max(I_7)*1.05])\n",
    "plt.ylim([0,np.max(U_7)*1.05])\n",
    "\n",
    "\n",
    "plt.plot(I_7,U_7,marker='X',linestyle='')\n",
    "plt.plot(I_model,U_model)\n",
    "plt.savefig('gluehlampe_aufgabe7.pdf')"
   ]
  },
  {
   "cell_type": "markdown",
   "id": "24fd0974",
   "metadata": {},
   "source": [
    "### Aufgabe 6, jedoch mit U vs. I Messung über Siebewiderstand"
   ]
  },
  {
   "cell_type": "code",
   "execution_count": 49,
   "id": "504c1408",
   "metadata": {},
   "outputs": [],
   "source": [
    "U_6neu1=np.array([0.109,0.185,0.227,0.253,0.284,0.328,0.378,0.421,0.480,0.594,0.649,0.712,0.771,0.843,0.978,1.111,1.289])\n",
    "I_6neu1=np.array([12.9,21.9,26.8,29.9,33.6,38.8,44.7,49.8,56.6,70.1,76.4,83.7,90.3,98.6,114.2,129.1,148.8])\n",
    "I_6neu1=I_6neu1/1000\n",
    "\n",
    "\n",
    "U_6nurkabel=np.array([0.046,0.200,0.215,0.240,0.254,0.273,0.289,0.306,0.335,0.361,0.391,0.422,0.486,0.564,0.754,1.052,1.270])\n",
    "I_6nurkabel=np.array([5.4,23.9,25.7,28.7,30.4,32.6,34.5,36.6,40.0,43.2,46.7,50.4,58.1,67.4,89.5,124.4,149.2])\n",
    "I_6nurkabel=I_6nurkabel/1000"
   ]
  },
  {
   "cell_type": "code",
   "execution_count": 50,
   "id": "b8dd6b3d",
   "metadata": {},
   "outputs": [
    {
     "data": {
      "text/plain": [
       "[<matplotlib.lines.Line2D at 0x7fa771abc340>]"
      ]
     },
     "execution_count": 50,
     "metadata": {},
     "output_type": "execute_result"
    },
    {
     "data": {
      "image/png": "[encoded data removed]",
      "text/plain": [
       "<Figure size 432x288 with 1 Axes>"
      ]
     },
     "metadata": {
      "needs_background": "light"
     },
     "output_type": "display_data"
    }
   ],
   "source": [
    "fig, ax = plt.subplots()\n",
    "\n",
    "#-- Set axis spines at 0\n",
    "for spine in ['left', 'bottom']:\n",
    "    ax.spines[spine].set_position('zero')\n",
    "\n",
    "# Hide the other spines...\n",
    "for spine in ['right', 'top']:\n",
    "    ax.spines[spine].set_color('none')\n",
    "\n",
    "#-- Decorate the spins\n",
    "arrow_length = 20 # In points\n",
    "\n",
    "# X-axis arrow\n",
    "ax.annotate('', xy=(1, 0), xycoords=('axes fraction', 'data'), \n",
    "            xytext=(arrow_length, 0), textcoords='offset points',\n",
    "            arrowprops=dict(arrowstyle='<|-', fc='black'))\n",
    "\n",
    "# Y-axis arrow\n",
    "ax.annotate('', xy=(0, 1), xycoords=('data', 'axes fraction'), \n",
    "            xytext=(0, arrow_length), textcoords='offset points',\n",
    "            arrowprops=dict(arrowstyle='<|-', fc='black'))\n",
    "\n",
    "plt.ylabel('U/V')\n",
    "plt.xlabel('I/A')\n",
    "plt.xlim([0,np.max(I_6nurkabel)*1.05])\n",
    "plt.ylim([0,np.max(U_6nurkabel)*1.05])\n",
    "\n",
    "\n",
    "plt.plot(I_6nurkabel,U_6nurkabel,marker='x',linestyle='',color='blue')\n",
    "plt.plot(I_6neu1,U_6neu1,marker='.',linestyle='',color='green')\n",
    "\n",
    "\n"
   ]
  },
  {
   "cell_type": "code",
   "execution_count": 51,
   "id": "d66af2d5",
   "metadata": {},
   "outputs": [
    {
     "name": "stdout",
     "output_type": "stream",
     "text": [
      "Intercept 0.0\n",
      "Slope [8.44143421]\n"
     ]
    }
   ],
   "source": [
    "#Lineare Regression in Phyton\n",
    "I_6nurkabel_reshape=I_6nurkabel.reshape(-1,1)\n",
    "model=LinearRegression(fit_intercept=False)\n",
    "model.fit(I_6nurkabel_reshape,U_6nurkabel)\n",
    "print('Intercept',model.intercept_)\n",
    "print('Slope',model.coef_)\n",
    "I_model=np.linspace(0,np.max(I_6neu1),100)\n",
    "U_model=I_model*model.coef_[0]\n",
    "R_ohne_Kupfer=model.coef_[0]\n",
    "\n"
   ]
  },
  {
   "cell_type": "code",
   "execution_count": 52,
   "id": "f7bf1670",
   "metadata": {},
   "outputs": [
    {
     "name": "stdout",
     "output_type": "stream",
     "text": [
      "Intercept 0.0\n",
      "Slope [8.56396696]\n"
     ]
    }
   ],
   "source": [
    "#Lineare Regression in Phyton\n",
    "I_6neu1_reshape=I_6neu1.reshape(-1,1)\n",
    "model=LinearRegression(fit_intercept=False)\n",
    "model.fit(I_6neu1_reshape,U_6neu1)\n",
    "print('Intercept',model.intercept_)\n",
    "print('Slope',model.coef_)\n",
    "I_model=np.linspace(0,np.max(I_6neu1),100)\n",
    "U_model=I_model*model.coef_\n",
    "R_mit_Kupfer=model.coef_[0]"
   ]
  },
  {
   "cell_type": "code",
   "execution_count": 53,
   "id": "bb6c2cfa",
   "metadata": {},
   "outputs": [
    {
     "name": "stdout",
     "output_type": "stream",
     "text": [
      "1.8631482919264153e-08\n"
     ]
    }
   ],
   "source": [
    "R=R_mit_Kupfer-R_ohne_Kupfer #Widerstand in Ohm\n",
    "l=1 #Länge in Metern\n",
    "d=0.44e-3 #Durchmesser in Metern\n",
    "r=d/2\n",
    "A=np.pi*r**2\n",
    "rho_0=R/l*A\n",
    "print(rho_0)"
   ]
  },
  {
   "cell_type": "markdown",
   "id": "72740141",
   "metadata": {},
   "source": [
    "## Wiederholung mit dünnerem Kupferkabel"
   ]
  },
  {
   "cell_type": "code",
   "execution_count": 54,
   "id": "c98cc189",
   "metadata": {},
   "outputs": [],
   "source": [
    "U_6neu2=np.array([0.122,0.209,0.224,0.288,0.320,0.370,0.444,0.567,0.980,0.901,1.321,1.589])\n",
    "I_6neu2=np.array([14.2,24.0,25.7,33.2,37.0,42.8,51.4,65.4,113.0,102.1,148.8,177.3])\n",
    "I_6neu2=I_6neu2/1000\n",
    "\n",
    "\n",
    "U_6nurkabel2=np.array([0.151,0.187,0.226,0.260,0.293,0.354,0.434,0.572,0.747,1.024,1.505,1.299])\n",
    "I_6nurkabel2=np.array([17.3,21.7,26.0,30.1,33.8,41.2,50.5,66.6,86.8,118.7,169.7,147.9])\n",
    "I_6nurkabel2=I_6nurkabel2/1000\n"
   ]
  },
  {
   "cell_type": "code",
   "execution_count": 55,
   "id": "9d7187c6",
   "metadata": {},
   "outputs": [
    {
     "data": {
      "text/plain": [
       "[<matplotlib.lines.Line2D at 0x7fa76034f3a0>]"
      ]
     },
     "execution_count": 55,
     "metadata": {},
     "output_type": "execute_result"
    },
    {
     "data": {
      "image/png": "[encoded data removed]",
      "text/plain": [
       "<Figure size 432x288 with 1 Axes>"
      ]
     },
     "metadata": {
      "needs_background": "light"
     },
     "output_type": "display_data"
    }
   ],
   "source": [
    "fig, ax = plt.subplots()\n",
    "\n",
    "#-- Set axis spines at 0\n",
    "for spine in ['left', 'bottom']:\n",
    "    ax.spines[spine].set_position('zero')\n",
    "\n",
    "# Hide the other spines...\n",
    "for spine in ['right', 'top']:\n",
    "    ax.spines[spine].set_color('none')\n",
    "\n",
    "#-- Decorate the spins\n",
    "arrow_length = 20 # In points\n",
    "\n",
    "# X-axis arrow\n",
    "ax.annotate('', xy=(1, 0), xycoords=('axes fraction', 'data'), \n",
    "            xytext=(arrow_length, 0), textcoords='offset points',\n",
    "            arrowprops=dict(arrowstyle='<|-', fc='black'))\n",
    "\n",
    "# Y-axis arrow\n",
    "ax.annotate('', xy=(0, 1), xycoords=('data', 'axes fraction'), \n",
    "            xytext=(0, arrow_length), textcoords='offset points',\n",
    "            arrowprops=dict(arrowstyle='<|-', fc='black'))\n",
    "\n",
    "plt.ylabel('U/V')\n",
    "plt.xlabel('I/A')\n",
    "plt.xlim([0,np.max(I_6neu2)*1.05])\n",
    "plt.ylim([0,np.max(U_6neu2)*1.05])\n",
    "\n",
    "\n",
    "plt.plot(I_6neu2,U_6neu2,marker='x',linestyle='',color='blue')\n",
    "plt.plot(I_6nurkabel2,U_6nurkabel2,marker='x',linestyle='',color='green')\n",
    "\n",
    "\n"
   ]
  },
  {
   "cell_type": "code",
   "execution_count": 56,
   "id": "736c679e",
   "metadata": {},
   "outputs": [
    {
     "name": "stdout",
     "output_type": "stream",
     "text": [
      "Intercept 0.0\n",
      "Slope [8.7456364]\n"
     ]
    }
   ],
   "source": [
    "#Lineare Regression in Phyton\n",
    "I_6nurkabel2_reshape=I_6nurkabel2.reshape(-1,1)\n",
    "model=LinearRegression(fit_intercept=False)\n",
    "model.fit(I_6nurkabel2_reshape,U_6nurkabel2)\n",
    "print('Intercept',model.intercept_)\n",
    "print('Slope',model.coef_)\n",
    "I_model=np.linspace(0,np.max(I_6neu1),100)\n",
    "U_model=I_model*model.coef_[0]\n",
    "R_ohne_Kupfer_2=model.coef_[0]\n",
    "\n"
   ]
  },
  {
   "cell_type": "code",
   "execution_count": 57,
   "id": "adc10c7c",
   "metadata": {},
   "outputs": [
    {
     "name": "stdout",
     "output_type": "stream",
     "text": [
      "Intercept 0.0\n",
      "Slope [8.84120144]\n"
     ]
    }
   ],
   "source": [
    "#Lineare Regression in Phyton\n",
    "I_6neu2_reshape=I_6neu2.reshape(-1,1)\n",
    "model=LinearRegression(fit_intercept=False)\n",
    "model.fit(I_6neu2_reshape,U_6neu2)\n",
    "print('Intercept',model.intercept_)\n",
    "print('Slope',model.coef_)\n",
    "I_model=np.linspace(0,np.max(I_6neu2_reshape),100)\n",
    "U_model=I_model*model.coef_\n",
    "R_mit_Kupfer_2=model.coef_[0]"
   ]
  },
  {
   "cell_type": "code",
   "execution_count": 58,
   "id": "3712f026",
   "metadata": {},
   "outputs": [
    {
     "name": "stdout",
     "output_type": "stream",
     "text": [
      "1.083817439225628e-08\n"
     ]
    }
   ],
   "source": [
    "R=R_mit_Kupfer_2-R_ohne_Kupfer_2 #Widerstand in Ohm\n",
    "l=1 #Länge in Metern\n",
    "d=0.38e-3 #Durchmesser in Metern\n",
    "r=d/2\n",
    "A=np.pi*r**2\n",
    "rho_0=R/l*A\n",
    "print(rho_0)"
   ]
  },
  {
   "cell_type": "code",
   "execution_count": 59,
   "id": "591a2732",
   "metadata": {},
   "outputs": [],
   "source": [
    "#Bestimmung Länge des Kupferkabels"
   ]
  },
  {
   "cell_type": "code",
   "execution_count": 60,
   "id": "82921c0e",
   "metadata": {},
   "outputs": [],
   "source": [
    "U_7neu=np.array([4.89,3.39,2.67,2.36,2.21,1.84,1.65,1.49,1.38,1.24,1.08,0.98,0.85,0.81,0.74,0.62,0.56])\n",
    "I_7neu=np.array([1.01,0.70,0.55,0.49,0.45,0.38,0.34,0.30,0.28,0.25,0.22,0.2,0.17,0.16,0.15,0.12,0.11])"
   ]
  },
  {
   "cell_type": "code",
   "execution_count": 61,
   "id": "fdb8f944",
   "metadata": {},
   "outputs": [
    {
     "name": "stdout",
     "output_type": "stream",
     "text": [
      "Intercept 0.0\n",
      "Slope [4.86371681]\n"
     ]
    }
   ],
   "source": [
    "#Lineare Regression in Phyton\n",
    "I_7neu_reshape=I_7neu.reshape(-1,1)\n",
    "model=LinearRegression(fit_intercept=False)\n",
    "model.fit(I_7neu_reshape,U_7neu)\n",
    "print('Intercept',model.intercept_)\n",
    "print('Slope',model.coef_)\n",
    "I_model=np.linspace(0,np.max(I_7neu),100)\n",
    "U_model=I_model*model.coef_[0]"
   ]
  },
  {
   "cell_type": "code",
   "execution_count": 62,
   "id": "ec0309df",
   "metadata": {},
   "outputs": [
    {
     "data": {
      "image/png": "[encoded data removed]",
      "text/plain": [
       "<Figure size 432x288 with 1 Axes>"
      ]
     },
     "metadata": {
      "needs_background": "light"
     },
     "output_type": "display_data"
    }
   ],
   "source": [
    "fig, ax = plt.subplots()\n",
    "\n",
    "#-- Set axis spines at 0\n",
    "for spine in ['left', 'bottom']:\n",
    "    ax.spines[spine].set_position('zero')\n",
    "\n",
    "# Hide the other spines...\n",
    "for spine in ['right', 'top']:\n",
    "    ax.spines[spine].set_color('none')\n",
    "\n",
    "#-- Decorate the spins\n",
    "arrow_length = 20 # In points\n",
    "\n",
    "# X-axis arrow\n",
    "ax.annotate('', xy=(1, 0), xycoords=('axes fraction', 'data'), \n",
    "            xytext=(arrow_length, 0), textcoords='offset points',\n",
    "            arrowprops=dict(arrowstyle='<|-', fc='black'))\n",
    "\n",
    "# Y-axis arrow\n",
    "ax.annotate('', xy=(0, 1), xycoords=('data', 'axes fraction'), \n",
    "            xytext=(0, arrow_length), textcoords='offset points',\n",
    "            arrowprops=dict(arrowstyle='<|-', fc='black'))\n",
    "\n",
    "plt.ylabel('U/V')\n",
    "plt.xlabel('I/A')\n",
    "plt.xlim([0,np.max(I_7neu)*1.05])\n",
    "plt.ylim([0,np.max(U_7neu)*1.05])\n",
    "\n",
    "\n",
    "plt.plot(I_7neu,U_7neu,marker='X',linestyle='')\n",
    "\n",
    "plt.plot(I_model,U_model)\n",
    "plt.savefig('gluehlampe_aufgabe7neufit.pdf')"
   ]
  },
  {
   "cell_type": "markdown",
   "id": "424de864",
   "metadata": {},
   "source": [
    "## Federversuch"
   ]
  },
  {
   "cell_type": "markdown",
   "id": "74c2085c",
   "metadata": {},
   "source": [
    "### Aufgabe 1"
   ]
  },
  {
   "cell_type": "code",
   "execution_count": 63,
   "id": "7d0a9de0",
   "metadata": {},
   "outputs": [
    {
     "name": "stdout",
     "output_type": "stream",
     "text": [
      "[8.829  6.867  4.905  2.943  0.981  1.4715 3.4335 5.3955 7.3575 8.3385\n",
      " 1.962  3.924  5.886  7.848 ]\n"
     ]
    }
   ],
   "source": [
    "m=np.array([200,150,50,350,400,250,500,300]) #in g\n",
    "s=np.array([117,94,30,215,243,149,317,174]) # in mm\n",
    "m_neu=np.array([100,300,500,700,200,400,900,1100])\n",
    "s_neu=np.array([7,25,41,61,15,32,81,99])\n",
    "\n",
    "\n",
    "m_1=np.array([500,300,400,450,350,100,150,250,200])\n",
    "s_1=np.array([30.5,18,24,27,21,5.5,8.5,14.5,11.5]) #in cm\n",
    "s_1=s_1*10 #damit s_1 in mm\n",
    "\n",
    "m_2=np.array([900,700,500,300,100,150,350,550,750,850,200,400,600,800])\n",
    "s_2=np.array([21.5,16.5,11.5,7,2.5,3.5,8.5,13,17.5,20.5,5,10,14,19.5]) # in cm\n",
    "s_2=s_2*10 #damit s_2 in mm\n",
    "\n",
    "m_2_neu=np.array([200,400,600,800,900])\n",
    "s_2_neu=np.array([40,90,135,182,205])\n",
    "\n",
    "\n",
    "m_7=np.array([1600,1400,1200,1000,800,600,400,200,100,300,500,700,900,1100,1300,1500,1650]) # in g\n",
    "s_7=np.array([72,63,54,45,35,24,16,6,2,12,22,31,42,52,62,71,77]) # in mm\n",
    "\n",
    "m_8=np.array([1650,1600,1500,1400,1300])\n",
    "s_8=np.array([148,140,132,126,116])\n",
    "\n",
    "k_array=np.zeros(8)\n",
    "\n",
    "m=m_2\n",
    "s=s_2\n",
    "F=m*9.81/1000\n",
    "print(F)\n"
   ]
  },
  {
   "cell_type": "code",
   "execution_count": 64,
   "id": "ded316a7",
   "metadata": {},
   "outputs": [
    {
     "name": "stdout",
     "output_type": "stream",
     "text": [
      "Intercept 0.4114713216958421\n",
      "Slope [24.22587771]\n",
      "k ist  4.128e-02 in N/mm\n",
      "k ist  4.128e+01 in N/m\n",
      "k ist  0.000e+00 in N/mm\n",
      "k ist  0.000e+00 in N/m\n",
      "k ist  0.000e+00 in N/mm\n",
      "k ist  0.000e+00 in N/m\n",
      "k ist  0.000e+00 in N/mm\n",
      "k ist  0.000e+00 in N/m\n",
      "k ist  0.000e+00 in N/mm\n",
      "k ist  0.000e+00 in N/m\n",
      "k ist  0.000e+00 in N/mm\n",
      "k ist  0.000e+00 in N/m\n",
      "k ist  0.000e+00 in N/mm\n",
      "k ist  0.000e+00 in N/m\n",
      "k ist  0.000e+00 in N/mm\n",
      "k ist  0.000e+00 in N/m\n"
     ]
    }
   ],
   "source": [
    "#Lineare Regression in Phyton\n",
    "F_reshape=F.reshape(-1,1)\n",
    "model=LinearRegression(fit_intercept=True)\n",
    "model.fit(F_reshape,s)\n",
    "print('Intercept',model.intercept_)\n",
    "print('Slope',model.coef_)\n",
    "\n",
    "k_array[0]=model.coef_[0]**(-1)\n",
    "\n",
    "for i in range(np.size(k_array)):\n",
    "    print(\"k ist \",np.format_float_scientific(k_array[i], unique=False, precision=3),\"in N/mm\")\n",
    "    print(\"k ist \",np.format_float_scientific(k_array[i]*1000, unique=False, precision=3),\"in N/m\")\n",
    "s_calc=F*model.coef_+model.intercept_\n",
    "\n"
   ]
  },
  {
   "cell_type": "code",
   "execution_count": 65,
   "id": "b11700db",
   "metadata": {},
   "outputs": [
    {
     "data": {
      "image/png": "[encoded data removed]",
      "text/plain": [
       "<Figure size 432x288 with 1 Axes>"
      ]
     },
     "metadata": {
      "needs_background": "light"
     },
     "output_type": "display_data"
    }
   ],
   "source": [
    "fig, ax = plt.subplots()\n",
    "\n",
    "#-- Set axis spines at 0\n",
    "for spine in ['left', 'bottom']:\n",
    "    ax.spines[spine].set_position('zero')\n",
    "\n",
    "# Hide the other spines...\n",
    "for spine in ['right', 'top']:\n",
    "    ax.spines[spine].set_color('none')\n",
    "\n",
    "#-- Decorate the spins\n",
    "arrow_length = 20 # In points\n",
    "\n",
    "# X-axis arrow\n",
    "ax.annotate('', xy=(1, 0), xycoords=('axes fraction', 'data'), \n",
    "            xytext=(arrow_length, 0), textcoords='offset points',\n",
    "            arrowprops=dict(arrowstyle='<|-', fc='black'))\n",
    "\n",
    "# Y-axis arrow\n",
    "ax.annotate('', xy=(0, 1), xycoords=('data', 'axes fraction'), \n",
    "            xytext=(0, arrow_length), textcoords='offset points',\n",
    "            arrowprops=dict(arrowstyle='<|-', fc='black'))\n",
    "\n",
    "plt.ylabel('s/mm')\n",
    "plt.xlabel('F/N')\n",
    "plt.xlim([0,np.max(F)*1.05])\n",
    "plt.ylim([0,np.max(s)*1.05])\n",
    "\n",
    "\n",
    "plt.plot(F,s,marker='X',linestyle='')\n",
    "\n",
    "plt.plot(F,s_calc,marker='',linestyle='-')\n",
    "plt.savefig('federversuch_aufgabe1.pdf')"
   ]
  },
  {
   "cell_type": "code",
   "execution_count": null,
   "id": "b48866c9",
   "metadata": {},
   "outputs": [],
   "source": []
  },
  {
   "cell_type": "markdown",
   "id": "b3973d1d",
   "metadata": {},
   "source": [
    "## Aufgabe 5"
   ]
  },
  {
   "cell_type": "code",
   "execution_count": 66,
   "id": "aad138ad",
   "metadata": {},
   "outputs": [
    {
     "name": "stdout",
     "output_type": "stream",
     "text": [
      "[ 13.77808989  34.3006993   87.58928571 272.5       ]\n"
     ]
    }
   ],
   "source": [
    "g=9.81\n",
    "d=np.array([0.8,1,1.25,1.6])\n",
    "m=np.array([500,500,500,500])\n",
    "s=np.array([356,143,56,18])\n",
    "F=m/1000*g\n",
    "k=F/(s*1e-3)\n",
    "print(k)"
   ]
  },
  {
   "cell_type": "code",
   "execution_count": 67,
   "id": "a68e5030",
   "metadata": {},
   "outputs": [
    {
     "data": {
      "text/html": [
       "<table border=\"1\" class=\"dataframe\">\n",
       "  <thead>\n",
       "    <tr style=\"text-align: right;\">\n",
       "      <th></th>\n",
       "      <th>0</th>\n",
       "      <th>1</th>\n",
       "      <th>2</th>\n",
       "      <th>3</th>\n",
       "    </tr>\n",
       "  </thead>\n",
       "  <tbody>\n",
       "    <tr>\n",
       "      <th>d/mm</th>\n",
       "      <td>0.800</td>\n",
       "      <td>1.000</td>\n",
       "      <td>1.250</td>\n",
       "      <td>1.600</td>\n",
       "    </tr>\n",
       "    <tr>\n",
       "      <th>m/g</th>\n",
       "      <td>500.000</td>\n",
       "      <td>500.000</td>\n",
       "      <td>500.000</td>\n",
       "      <td>500.000</td>\n",
       "    </tr>\n",
       "    <tr>\n",
       "      <th>F/N</th>\n",
       "      <td>4.905</td>\n",
       "      <td>4.905</td>\n",
       "      <td>4.905</td>\n",
       "      <td>4.905</td>\n",
       "    </tr>\n",
       "    <tr>\n",
       "      <th>s/mm</th>\n",
       "      <td>356.000</td>\n",
       "      <td>143.000</td>\n",
       "      <td>56.000</td>\n",
       "      <td>18.000</td>\n",
       "    </tr>\n",
       "    <tr>\n",
       "      <th>k/(N/m)</th>\n",
       "      <td>13.778</td>\n",
       "      <td>34.301</td>\n",
       "      <td>87.589</td>\n",
       "      <td>272.500</td>\n",
       "    </tr>\n",
       "  </tbody>\n",
       "</table>"
      ],
      "text/plain": [
       "<IPython.core.display.HTML object>"
      ]
     },
     "metadata": {},
     "output_type": "display_data"
    },
    {
     "data": {
      "text/plain": [
       "'\\\\begin{tabular}{lrrrr}\\n\\\\toprule\\n{} &        0 &        1 &        2 &        3 \\\\\\\\\\n\\\\midrule\\nd/mm    &    0.800 &    1.000 &    1.250 &    1.600 \\\\\\\\\\nm/g     &  500.000 &  500.000 &  500.000 &  500.000 \\\\\\\\\\nF/N     &    4.905 &    4.905 &    4.905 &    4.905 \\\\\\\\\\ns/mm    &  356.000 &  143.000 &   56.000 &   18.000 \\\\\\\\\\nk/(N/m) &   13.778 &   34.301 &   87.589 &  272.500 \\\\\\\\\\n\\\\bottomrule\\n\\\\end{tabular}\\n'"
      ]
     },
     "execution_count": 67,
     "metadata": {},
     "output_type": "execute_result"
    }
   ],
   "source": [
    "results_5=np.vstack((d,m,F,s,k))\n",
    "results_5=np.around(results_5,3,out=None)\n",
    "#print(results_5)\n",
    "\n",
    "\n",
    "panda_df_5 = pd.DataFrame(data = results_5,  \n",
    "                        index = [\"d/mm\", \"m/g\", \"F/N\", \"s/mm\", \"k/(N/m)\"]) \n",
    "  \n",
    "#print(panda_df_5) \n",
    "display(HTML(panda_df_5.to_html()))\n",
    "panda_df_5.to_latex() #USE IF EXPORT TO LATEX IS NEEDED!!"
   ]
  },
  {
   "cell_type": "code",
   "execution_count": 68,
   "id": "5c916e98",
   "metadata": {},
   "outputs": [
    {
     "data": {
      "image/png": "[encoded data removed]",
      "text/plain": [
       "<Figure size 432x288 with 1 Axes>"
      ]
     },
     "metadata": {
      "needs_background": "light"
     },
     "output_type": "display_data"
    }
   ],
   "source": [
    "fig, ax = plt.subplots()\n",
    "\n",
    "#-- Set axis spines at 0\n",
    "for spine in ['left', 'bottom']:\n",
    "    ax.spines[spine].set_position('zero')\n",
    "\n",
    "# Hide the other spines...\n",
    "for spine in ['right', 'top']:\n",
    "    ax.spines[spine].set_color('none')\n",
    "\n",
    "#-- Decorate the spins\n",
    "arrow_length = 20 # In points\n",
    "\n",
    "# X-axis arrow\n",
    "ax.annotate('', xy=(1, 0), xycoords=('axes fraction', 'data'), \n",
    "            xytext=(arrow_length, 0), textcoords='offset points',\n",
    "            arrowprops=dict(arrowstyle='<|-', fc='black'))\n",
    "\n",
    "# Y-axis arrow\n",
    "ax.annotate('', xy=(0, 1), xycoords=('data', 'axes fraction'), \n",
    "            xytext=(0, arrow_length), textcoords='offset points',\n",
    "            arrowprops=dict(arrowstyle='<|-', fc='black'))\n",
    "\n",
    "plt.ylabel('k/(N/m)')\n",
    "plt.xlabel('d/mm')\n",
    "plt.xlim([0,np.max(d)*1.05])\n",
    "plt.ylim([0,np.max(k)*1.05])\n",
    "\n",
    "\n",
    "plt.plot(d,k,marker='X',linestyle='')\n",
    "plt.savefig('federversuch_aufgabe5.pdf')"
   ]
  },
  {
   "cell_type": "code",
   "execution_count": 69,
   "id": "d758a6eb",
   "metadata": {},
   "outputs": [
    {
     "name": "stdout",
     "output_type": "stream",
     "text": [
      "[2.62307964 3.53516574 4.47265868 5.60763861]\n"
     ]
    }
   ],
   "source": [
    "ln_k=np.log(k)\n",
    "ln_d=np.log(d)\n",
    "print(ln_k)"
   ]
  },
  {
   "cell_type": "code",
   "execution_count": 70,
   "id": "8c18fcf0",
   "metadata": {},
   "outputs": [
    {
     "data": {
      "image/png": "[encoded data removed]",
      "text/plain": [
       "<Figure size 432x288 with 1 Axes>"
      ]
     },
     "metadata": {
      "needs_background": "light"
     },
     "output_type": "display_data"
    }
   ],
   "source": [
    "\n",
    "\n",
    "plt.ylabel('ln(k/(N/m))')\n",
    "plt.xlabel('ln(d/(mm))')\n",
    "\n",
    "\n",
    "plt.plot(ln_d,ln_k,marker='X',linestyle='')\n",
    "plt.savefig('federversuch_aufgabe5_log.pdf')"
   ]
  },
  {
   "cell_type": "code",
   "execution_count": 71,
   "id": "1fbe6785",
   "metadata": {},
   "outputs": [
    {
     "name": "stdout",
     "output_type": "stream",
     "text": [
      "Intercept 3.554534609904646\n",
      "Slope [4.29869923]\n"
     ]
    }
   ],
   "source": [
    "#Lineare Regression in Phyton\n",
    "ln_d=ln_d.reshape(-1,1)\n",
    "model=LinearRegression(fit_intercept=True)\n",
    "model.fit(ln_d,ln_k)\n",
    "print('Intercept',model.intercept_)\n",
    "print('Slope',model.coef_)"
   ]
  },
  {
   "cell_type": "markdown",
   "id": "71aa7d88",
   "metadata": {},
   "source": [
    "### Aufgabe 6"
   ]
  },
  {
   "cell_type": "code",
   "execution_count": 72,
   "id": "8c6f21db",
   "metadata": {},
   "outputs": [],
   "source": [
    "g=9.81\n",
    "D=np.array([17.75,16,12.5,10])\n",
    "m_6=np.array([500,500,500,500])\n",
    "s_6=np.array([139,117,55,37])\n",
    "F_6=m_6/1000*g\n",
    "k_6=F_6/(s_6/1e3)\n",
    "\n"
   ]
  },
  {
   "cell_type": "code",
   "execution_count": 73,
   "id": "9dea897e",
   "metadata": {},
   "outputs": [
    {
     "data": {
      "text/html": [
       "<table border=\"1\" class=\"dataframe\">\n",
       "  <thead>\n",
       "    <tr style=\"text-align: right;\">\n",
       "      <th></th>\n",
       "      <th>0</th>\n",
       "      <th>1</th>\n",
       "      <th>2</th>\n",
       "      <th>3</th>\n",
       "    </tr>\n",
       "  </thead>\n",
       "  <tbody>\n",
       "    <tr>\n",
       "      <th>D_m/mm</th>\n",
       "      <td>17.750</td>\n",
       "      <td>16.000</td>\n",
       "      <td>12.500</td>\n",
       "      <td>10.000</td>\n",
       "    </tr>\n",
       "    <tr>\n",
       "      <th>m/g</th>\n",
       "      <td>500.000</td>\n",
       "      <td>500.000</td>\n",
       "      <td>500.000</td>\n",
       "      <td>500.000</td>\n",
       "    </tr>\n",
       "    <tr>\n",
       "      <th>F/N</th>\n",
       "      <td>4.905</td>\n",
       "      <td>4.905</td>\n",
       "      <td>4.905</td>\n",
       "      <td>4.905</td>\n",
       "    </tr>\n",
       "    <tr>\n",
       "      <th>s/mm</th>\n",
       "      <td>139.000</td>\n",
       "      <td>117.000</td>\n",
       "      <td>55.000</td>\n",
       "      <td>37.000</td>\n",
       "    </tr>\n",
       "    <tr>\n",
       "      <th>k/(N/m)</th>\n",
       "      <td>35.288</td>\n",
       "      <td>41.923</td>\n",
       "      <td>89.182</td>\n",
       "      <td>132.568</td>\n",
       "    </tr>\n",
       "  </tbody>\n",
       "</table>"
      ],
      "text/plain": [
       "<IPython.core.display.HTML object>"
      ]
     },
     "metadata": {},
     "output_type": "display_data"
    }
   ],
   "source": [
    "results_6=np.vstack((D,m_6,F_6,s_6,k_6))\n",
    "results_6=np.around(results_6,3,out=None)\n",
    "#print(results_5)\n",
    "\n",
    "\n",
    "panda_df_6 = pd.DataFrame(data = results_6,  \n",
    "                        index = [\"D_m/mm\", \"m/g\", \"F/N\", \"s/mm\", \"k/(N/m)\"]) \n",
    "  \n",
    "#print(panda_df_5) \n",
    "display(HTML(panda_df_6.to_html()))\n",
    "#panda_df.to_latextex() USE IF EXPORT TO LATEX IS NEEDED!!"
   ]
  },
  {
   "cell_type": "code",
   "execution_count": 74,
   "id": "5d4d0ae2",
   "metadata": {},
   "outputs": [
    {
     "data": {
      "image/png": "[encoded data removed]",
      "text/plain": [
       "<Figure size 432x288 with 1 Axes>"
      ]
     },
     "metadata": {
      "needs_background": "light"
     },
     "output_type": "display_data"
    }
   ],
   "source": [
    "fig, ax = plt.subplots()\n",
    "\n",
    "#-- Set axis spines at 0\n",
    "for spine in ['left', 'bottom']:\n",
    "    ax.spines[spine].set_position('zero')\n",
    "\n",
    "# Hide the other spines...\n",
    "for spine in ['right', 'top']:\n",
    "    ax.spines[spine].set_color('none')\n",
    "\n",
    "#-- Decorate the spins\n",
    "arrow_length = 20 # In points\n",
    "\n",
    "# X-axis arrow\n",
    "ax.annotate('', xy=(1, 0), xycoords=('axes fraction', 'data'), \n",
    "            xytext=(arrow_length, 0), textcoords='offset points',\n",
    "            arrowprops=dict(arrowstyle='<|-', fc='black'))\n",
    "\n",
    "# Y-axis arrow\n",
    "ax.annotate('', xy=(0, 1), xycoords=('data', 'axes fraction'), \n",
    "            xytext=(0, arrow_length), textcoords='offset points',\n",
    "            arrowprops=dict(arrowstyle='<|-', fc='black'))\n",
    "\n",
    "plt.ylabel('k/(N/m)')\n",
    "plt.xlabel('d/mm')\n",
    "plt.xlim([0,np.max(D)*1.05])\n",
    "plt.ylim([0,np.max(k_6)*1.05])\n",
    "\n",
    "\n",
    "plt.plot(D,k_6,marker='X',linestyle='')\n",
    "plt.savefig('federversuch_aufgabe6.pdf')"
   ]
  },
  {
   "cell_type": "code",
   "execution_count": 75,
   "id": "5b2b9e7a",
   "metadata": {},
   "outputs": [],
   "source": [
    "ln_k=np.log(k_6)\n",
    "ln_D_m=np.log(D)"
   ]
  },
  {
   "cell_type": "code",
   "execution_count": 76,
   "id": "ad3b8a8c",
   "metadata": {},
   "outputs": [
    {
     "data": {
      "image/png": "[encoded data removed]",
      "text/plain": [
       "<Figure size 432x288 with 1 Axes>"
      ]
     },
     "metadata": {
      "needs_background": "light"
     },
     "output_type": "display_data"
    }
   ],
   "source": [
    "plt.ylabel('ln(k/(N/m))')\n",
    "plt.xlabel('ln(D_m/(mm))')\n",
    "\n",
    "\n",
    "plt.plot(ln_D_m,ln_k,marker='X',linestyle='')\n",
    "plt.savefig('federversuch_aufgabe6_log.pdf')"
   ]
  },
  {
   "cell_type": "code",
   "execution_count": 77,
   "id": "f9649b7d",
   "metadata": {},
   "outputs": [
    {
     "name": "stdout",
     "output_type": "stream",
     "text": [
      "Intercept 10.49277518559018\n",
      "Slope [-2.41417037]\n"
     ]
    }
   ],
   "source": [
    "#Lineare Regression in Phyton\n",
    "ln_D_m=ln_D_m.reshape(-1,1)\n",
    "model=LinearRegression(fit_intercept=True)\n",
    "model.fit(ln_D_m,ln_k)\n",
    "print('Intercept',model.intercept_)\n",
    "print('Slope',model.coef_)"
   ]
  },
  {
   "cell_type": "markdown",
   "id": "58be6e97",
   "metadata": {},
   "source": [
    "### Aufgabe 7"
   ]
  },
  {
   "cell_type": "code",
   "execution_count": 78,
   "id": "4ac11a77",
   "metadata": {},
   "outputs": [],
   "source": [
    "d=np.array([0.8,1,1.25,1.25,1.25,1.25,1.25,1.6])\n",
    "D=np.array([10,10,17.75,16,12.5,10,10,10])\n",
    "n=np.array([263,263,125,125,125,263,125,263])\n",
    "G=81500 #wir rechnen alles in mm, somit müssen wir gleich nur noch k auch in N/m ausdrücken\n",
    "k=np.array([16.46,40.875,34.335,48.246,111.477,95.707,199.833,270])\n",
    "k=k/1000\n",
    "var=d**4*D**(-3)/n*G"
   ]
  },
  {
   "cell_type": "code",
   "execution_count": 79,
   "id": "0976ffc4",
   "metadata": {},
   "outputs": [
    {
     "data": {
      "image/png": "[encoded data removed]",
      "text/plain": [
       "<Figure size 432x288 with 1 Axes>"
      ]
     },
     "metadata": {
      "needs_background": "light"
     },
     "output_type": "display_data"
    }
   ],
   "source": [
    "fig, ax = plt.subplots()\n",
    "\n",
    "#-- Set axis spines at 0\n",
    "for spine in ['left', 'bottom']:\n",
    "    ax.spines[spine].set_position('zero')\n",
    "\n",
    "# Hide the other spines...\n",
    "for spine in ['right', 'top']:\n",
    "    ax.spines[spine].set_color('none')\n",
    "\n",
    "#-- Decorate the spins\n",
    "arrow_length = 20 # In points\n",
    "\n",
    "# X-axis arrow\n",
    "ax.annotate('', xy=(1, 0), xycoords=('axes fraction', 'data'), \n",
    "            xytext=(arrow_length, 0), textcoords='offset points',\n",
    "            arrowprops=dict(arrowstyle='<|-', fc='black'))\n",
    "\n",
    "# Y-axis arrow\n",
    "ax.annotate('', xy=(0, 1), xycoords=('data', 'axes fraction'), \n",
    "            xytext=(0, arrow_length), textcoords='offset points',\n",
    "            arrowprops=dict(arrowstyle='<|-', fc='black'))\n",
    "\n",
    "plt.ylabel('k/(N/m)')\n",
    "plt.xlabel('var/(N/mm)')\n",
    "plt.xlim([0,np.max(var)*1.05])\n",
    "plt.ylim([0,np.max(k)*1.05])\n",
    "\n",
    "\n",
    "plt.plot(var,k,marker='X',linestyle='')\n",
    "plt.savefig('federversuch_aufgabe7.pdf')"
   ]
  },
  {
   "cell_type": "code",
   "execution_count": 80,
   "id": "2f1b85cf",
   "metadata": {},
   "outputs": [
    {
     "name": "stdout",
     "output_type": "stream",
     "text": [
      "Intercept 0.0\n",
      "Slope [0.13022982]\n"
     ]
    }
   ],
   "source": [
    "#Lineare Regression in Phyton\n",
    "var=var.reshape(-1,1)\n",
    "model=LinearRegression(fit_intercept=False)\n",
    "model.fit(var,k)\n",
    "print('Intercept',model.intercept_)\n",
    "print('Slope',model.coef_)"
   ]
  },
  {
   "cell_type": "markdown",
   "id": "c0d344bd",
   "metadata": {},
   "source": [
    "## Felgenversuch "
   ]
  },
  {
   "cell_type": "markdown",
   "id": "4e2d220a",
   "metadata": {},
   "source": [
    "### Aufgabe 1"
   ]
  },
  {
   "cell_type": "code",
   "execution_count": 81,
   "id": "12aa92c2",
   "metadata": {},
   "outputs": [
    {
     "name": "stdout",
     "output_type": "stream",
     "text": [
      "nan\n",
      "0\n",
      "range(0, 2)\n",
      "[nan nan]\n"
     ]
    },
    {
     "name": "stderr",
     "output_type": "stream",
     "text": [
      "/Users/ce4714e/opt/anaconda3/lib/python3.8/site-packages/numpy/core/fromnumeric.py:3419: RuntimeWarning: Mean of empty slice.\n",
      "  return _methods._mean(a, axis=axis, dtype=dtype,\n",
      "/Users/ce4714e/opt/anaconda3/lib/python3.8/site-packages/numpy/core/_methods.py:188: RuntimeWarning: invalid value encountered in double_scalars\n",
      "  ret = ret.dtype.type(ret / rcount)\n"
     ]
    }
   ],
   "source": [
    "import numpy as np\n",
    "phi_0=np.linspace(0,180,19)\n",
    "t_0=np.array([0,3.72,4.98,5.65,6.53,7.40,9.00,9.39,10.29,10.13,10.32,11.01,12.44,11.7,14.04,14.66,13.83,15.38,15.14]) #Testweise nehme ich nur die erste Messreihe\n",
    "\n",
    "phi_1=np.array([10,20,30,60,90,120,150,180,270,360])\n",
    "t_1=np.array([1.42,2.13,2.85,3.87,4.46,5.26,5.87,6.91,8.59,9.64])\n",
    "\n",
    "phi_2=np.array([30,80,120,180,250])\n",
    "t_2=np.array([2.14,3.54,4.27,5.41,6.14])\n",
    "\n",
    "phi_3=np.array([])\n",
    "t_mess=np.array([(),()])\n",
    "\n",
    "print(np.mean(t_mess[0]))\n",
    "\n",
    "print(np.size(t_mess))\n",
    "\n",
    "print(range(t_mess.shape[0]))\n",
    "\n",
    "t_3=np.zeros(t_mess.shape[0])\n",
    "for i in range(t_mess.shape[0]):\n",
    "    t_3[i]=np.mean(t_mess[i])\n",
    "    \n",
    "\n",
    "print(t_3)\n",
    "\n",
    "phi=phi_1\n",
    "t=t_1"
   ]
  },
  {
   "cell_type": "code",
   "execution_count": 82,
   "id": "c97bd4c8",
   "metadata": {},
   "outputs": [
    {
     "data": {
      "image/png": "[encoded data removed]",
      "text/plain": [
       "<Figure size 432x288 with 1 Axes>"
      ]
     },
     "metadata": {
      "needs_background": "light"
     },
     "output_type": "display_data"
    }
   ],
   "source": [
    "fig, ax = plt.subplots()\n",
    "\n",
    "#-- Set axis spines at 0\n",
    "for spine in ['left', 'bottom']:\n",
    "    ax.spines[spine].set_position('zero')\n",
    "\n",
    "# Hide the other spines...\n",
    "for spine in ['right', 'top']:\n",
    "    ax.spines[spine].set_color('none')\n",
    "\n",
    "#-- Decorate the spins\n",
    "arrow_length = 20 # In points\n",
    "\n",
    "# X-axis arrow\n",
    "ax.annotate('', xy=(1, 0), xycoords=('axes fraction', 'data'), \n",
    "            xytext=(arrow_length, 0), textcoords='offset points',\n",
    "            arrowprops=dict(arrowstyle='<|-', fc='black'))\n",
    "\n",
    "# Y-axis arrow\n",
    "ax.annotate('', xy=(0, 1), xycoords=('data', 'axes fraction'), \n",
    "            xytext=(0, arrow_length), textcoords='offset points',\n",
    "            arrowprops=dict(arrowstyle='<|-', fc='black'))\n",
    "\n",
    "plt.ylabel('phi/(Grad)')\n",
    "plt.xlabel('t/(s)')\n",
    "plt.xlim([0,np.max(t)*1.05])\n",
    "plt.ylim([0,np.max(phi)*1.05])\n",
    "\n",
    "plt.plot(t,phi,marker='X',linestyle='')\n",
    "plt.savefig('felgenversuch_aufgabe1.pdf')"
   ]
  },
  {
   "cell_type": "code",
   "execution_count": 83,
   "id": "598f3dcd",
   "metadata": {},
   "outputs": [],
   "source": [
    "d_scheibe=8e-2\n",
    "m=31e-3\n",
    "g=9.81\n",
    "M_G=m*g*d_scheibe/2"
   ]
  },
  {
   "cell_type": "code",
   "execution_count": 84,
   "id": "ab719672",
   "metadata": {},
   "outputs": [
    {
     "data": {
      "image/png": "[encoded data removed]",
      "text/plain": [
       "<Figure size 432x288 with 1 Axes>"
      ]
     },
     "metadata": {
      "needs_background": "light"
     },
     "output_type": "display_data"
    }
   ],
   "source": [
    "fig, ax = plt.subplots()\n",
    "\n",
    "#-- Set axis spines at 0\n",
    "for spine in ['left', 'bottom']:\n",
    "    ax.spines[spine].set_position('zero')\n",
    "\n",
    "# Hide the other spines...\n",
    "for spine in ['right', 'top']:\n",
    "    ax.spines[spine].set_color('none')\n",
    "\n",
    "#-- Decorate the spins\n",
    "arrow_length = 20 # In points\n",
    "\n",
    "# X-axis arrow\n",
    "ax.annotate('', xy=(1, 0), xycoords=('axes fraction', 'data'), \n",
    "            xytext=(arrow_length, 0), textcoords='offset points',\n",
    "            arrowprops=dict(arrowstyle='<|-', fc='black'))\n",
    "\n",
    "# Y-axis arrow\n",
    "ax.annotate('', xy=(0, 1), xycoords=('data', 'axes fraction'), \n",
    "            xytext=(0, arrow_length), textcoords='offset points',\n",
    "            arrowprops=dict(arrowstyle='<|-', fc='black'))\n",
    "\n",
    "plt.ylabel('phi/(Grad)')\n",
    "plt.xlabel('t**2/(s**2)')\n",
    "plt.xlim([0,np.max(t**2/2)*1.05])\n",
    "plt.ylim([0,np.max(phi)*1.05])\n",
    "\n",
    "\n",
    "plt.plot(t**2/2,phi,marker='X',linestyle='')\n",
    "plt.savefig('felgenversuch_aufgabe3_log.pdf')"
   ]
  },
  {
   "cell_type": "code",
   "execution_count": 85,
   "id": "339b38a5",
   "metadata": {},
   "outputs": [
    {
     "name": "stdout",
     "output_type": "stream",
     "text": [
      "Intercept 0.0\n",
      "Slope [7.72757944]\n",
      "In grad/s**2 [7.72757944] In 1/s**2 [0.1348717]\n"
     ]
    }
   ],
   "source": [
    "#Lineare Regression in Phyton\n",
    "t_square_half=t**2/2\n",
    "t_square_half=t_square_half.reshape(-1,1)\n",
    "model=LinearRegression(fit_intercept=False)\n",
    "model.fit(t_square_half,phi)\n",
    "print('Intercept',model.intercept_)\n",
    "print('Slope',model.coef_)\n",
    "beta=model.coef_ # in grad\n",
    "print('In grad/s**2',beta,'In 1/s**2',beta/180*np.pi)\n",
    "\n",
    "phi_reg=np.linspace(0,360,100)\n",
    "t_square_half_reg=phi_reg/model.coef_"
   ]
  },
  {
   "cell_type": "code",
   "execution_count": 86,
   "id": "f2f11e4d",
   "metadata": {},
   "outputs": [
    {
     "data": {
      "image/png": "[encoded data removed]",
      "text/plain": [
       "<Figure size 432x288 with 1 Axes>"
      ]
     },
     "metadata": {
      "needs_background": "light"
     },
     "output_type": "display_data"
    }
   ],
   "source": [
    "fig, ax = plt.subplots()\n",
    "\n",
    "#-- Set axis spines at 0\n",
    "for spine in ['left', 'bottom']:\n",
    "    ax.spines[spine].set_position('zero')\n",
    "\n",
    "# Hide the other spines...\n",
    "for spine in ['right', 'top']:\n",
    "    ax.spines[spine].set_color('none')\n",
    "\n",
    "#-- Decorate the spins\n",
    "arrow_length = 20 # In points\n",
    "\n",
    "# X-axis arrow\n",
    "ax.annotate('', xy=(1, 0), xycoords=('axes fraction', 'data'), \n",
    "            xytext=(arrow_length, 0), textcoords='offset points',\n",
    "            arrowprops=dict(arrowstyle='<|-', fc='black'))\n",
    "\n",
    "# Y-axis arrow\n",
    "ax.annotate('', xy=(0, 1), xycoords=('data', 'axes fraction'), \n",
    "            xytext=(0, arrow_length), textcoords='offset points',\n",
    "            arrowprops=dict(arrowstyle='<|-', fc='black'))\n",
    "\n",
    "plt.ylabel('phi/(Grad)')\n",
    "plt.xlabel('t/(s)')\n",
    "plt.xlim([0,np.max(t**2/2)*1.05])\n",
    "plt.ylim([0,np.max(phi)*1.05])\n",
    "\n",
    "plt.plot(t_square_half_reg,phi_reg,marker='',linestyle='-')\n",
    "plt.plot(t**2/2,phi,marker='X',linestyle='')\n",
    "plt.savefig('felgenversuch_aufgabe3_reg.pdf')"
   ]
  },
  {
   "cell_type": "code",
   "execution_count": 87,
   "id": "4b6ce608",
   "metadata": {},
   "outputs": [
    {
     "data": {
      "image/png": "[encoded data removed]",
      "text/plain": [
       "<Figure size 432x288 with 1 Axes>"
      ]
     },
     "metadata": {
      "needs_background": "light"
     },
     "output_type": "display_data"
    }
   ],
   "source": [
    "fig, ax = plt.subplots()\n",
    "\n",
    "#-- Set axis spines at 0\n",
    "for spine in ['left', 'bottom']:\n",
    "    ax.spines[spine].set_position('zero')\n",
    "\n",
    "# Hide the other spines...\n",
    "for spine in ['right', 'top']:\n",
    "    ax.spines[spine].set_color('none')\n",
    "\n",
    "#-- Decorate the spins\n",
    "arrow_length = 20 # In points\n",
    "\n",
    "# X-axis arrow\n",
    "ax.annotate('', xy=(1, 0), xycoords=('axes fraction', 'data'), \n",
    "            xytext=(arrow_length, 0), textcoords='offset points',\n",
    "            arrowprops=dict(arrowstyle='<|-', fc='black'))\n",
    "\n",
    "# Y-axis arrow\n",
    "ax.annotate('', xy=(0, 1), xycoords=('data', 'axes fraction'), \n",
    "            xytext=(0, arrow_length), textcoords='offset points',\n",
    "            arrowprops=dict(arrowstyle='<|-', fc='black'))\n",
    "\n",
    "plt.ylabel('$\\phi$/(Grad)')\n",
    "plt.xlabel('t/s')\n",
    "plt.xlim([0,np.max(t)*1.05])\n",
    "plt.ylim([0,np.max(phi)*1.05])\n",
    "\n",
    "t_reg=np.sqrt(2*t_square_half_reg)\n",
    "plt.plot(t_reg,phi_reg,marker='',linestyle='-')\n",
    "plt.plot(t,phi,marker='X',linestyle='')\n",
    "plt.savefig('felgenversuch_aufgabe1_reg.pdf')"
   ]
  },
  {
   "cell_type": "code",
   "execution_count": 88,
   "id": "0219dcea",
   "metadata": {},
   "outputs": [
    {
     "name": "stdout",
     "output_type": "stream",
     "text": [
      "Der Mittelwert von phi_max ist 4284 in Grad\n",
      "Die Winkelbeschleunigung ist 0.135 in 1/s^2\n",
      "Das Reibdrehmoment ist: 0.0011 in Nm\n",
      "Das Gravitationsdrehmoment ist: 0.0122 in Nm\n",
      "Das Gesamtdrehmoment ist:  0.011 in Nm\n",
      "Das Masseträgheitsmoment der Felge ist 0.098 kg*m^2\n",
      "Die Masse der Felge ist 1.09 kg\n"
     ]
    }
   ],
   "source": [
    "r_F=30e-2 #radius der felge in m\n",
    "phi_zero=360\n",
    "phi_max=np.mean([4070,4070,4070,4055,5155])\n",
    "#phi_max=4791\n",
    "print(\"Der Mittelwert von phi_max ist\", round(phi_max), \"in Grad\")\n",
    "M_R=M_G*(phi_max/phi_zero-1)**(-1)\n",
    "print(\"Die Winkelbeschleunigung ist\", round(beta[0]/180*np.pi,3), \"in 1/s^2\")\n",
    "print(\"Das Reibdrehmoment ist:\", round(M_R,4), \"in Nm\")\n",
    "print(\"Das Gravitationsdrehmoment ist:\", round(M_G,4), \"in Nm\")\n",
    "print(\"Das Gesamtdrehmoment ist: \",round(M_G-M_R,4),\"in Nm\")\n",
    "J=(M_R+M_G)/(beta/(180/np.pi))\n",
    "print(\"Das Masseträgheitsmoment der Felge ist\", round(J[0],3), \"kg*m^2\")\n",
    "print( \"Die Masse der Felge ist\", round(J[0]/r_F**2,2),\"kg\")"
   ]
  },
  {
   "cell_type": "code",
   "execution_count": 89,
   "id": "9af814c7",
   "metadata": {},
   "outputs": [
    {
     "data": {
      "text/plain": [
       "0.11117530821291134"
      ]
     },
     "execution_count": 89,
     "metadata": {},
     "output_type": "execute_result"
    }
   ],
   "source": [
    "2*280/360*np.pi/(6.63**2) "
   ]
  },
  {
   "cell_type": "markdown",
   "id": "6b3a28ab",
   "metadata": {},
   "source": []
  },
  {
   "cell_type": "markdown",
   "id": "7e02ab5d",
   "metadata": {},
   "source": [
    "# Felge - Messunsicherheit"
   ]
  },
  {
   "cell_type": "code",
   "execution_count": 90,
   "id": "64e12204",
   "metadata": {},
   "outputs": [],
   "source": [
    "t_analog=np.array([7.2,7.4,7.8,7.4,7.4,7.4,7.6,7.2,7.0,7.2,7.2,7.4,7.6,7.4,7.2,7.8,7.6,7.2,7.4,7.4,7.6,7.0,7.8,7.4,7.4])\n",
    "t_analog=np.append(t_analog,[7.2,7.8,7.8,7.6,7.8,7.8,7.8,7.6,7.6,7.4,7.4,7.4,7.8,7.6,7.8,7.2,7.6,7.8,7.4,7.6,8.2,7.0])\n",
    "t_analog=np.append(t_analog,[7.8,7.4,7.8,7.6,7.6,7.6,7.4,7.2,8.0,7.4,6.6,7.6,7.6,7.6,7.2,7.0,7.2,7.4])"
   ]
  },
  {
   "cell_type": "code",
   "execution_count": 91,
   "id": "33f7b839",
   "metadata": {},
   "outputs": [
    {
     "name": "stdout",
     "output_type": "stream",
     "text": [
      "[7.6 7.6 7.4 7.2 8.  7.4 6.6 7.6 7.6 7.6 7.2 7.  7.2 7.4]\n",
      "[7.2 7.4 7.8 7.4 7.4 7.4 7.6 7.2 7.  7.2 7.2 7.4 7.6 7.4 7.2 7.8 7.6 7.2\n",
      " 7.4 7.4 7.6 7.  7.8 7.4 7.4 7.2 7.8 7.8 7.6 7.8 7.8 7.8 7.6 7.6 7.4 7.4\n",
      " 7.4 7.8 7.6 7.8 7.2 7.6 7.8 7.4 7.6 8.2 7.  7.8 7.4 7.8]\n"
     ]
    }
   ],
   "source": [
    "np.shape(t_analog)\n",
    "t_analog_train=t_analog[:50]\n",
    "t_analog_test=t_analog[51:]\n",
    "print(t_analog_test)\n",
    "print(t_analog_train)\n",
    "t_analog=t_analog_train"
   ]
  },
  {
   "cell_type": "code",
   "execution_count": 92,
   "id": "6a479aec",
   "metadata": {},
   "outputs": [],
   "source": [
    "t_digi=np.array([7.30,7.55,7.42,7.43,7.35,7.21,7.30,7.46,7.31,7.58,7.29,7.32,7.51,7.34,7.42,7.32,7.37,7.49,7.65,7.41])\n",
    "t_digi=np.append(t_digi,[7.44,7.37,7.35,7.53,6.88,7.34,7.24,7.46,7.59,7.33,7.31,7.49,7.38,7.47,7.48,7.21,7.30,7.45])\n",
    "t_digi=np.append(t_digi,[7.19,6.83,7.43,7.13,7.39,7.22,7.52,8.17,7.43,7.11,7.44,7.22,7.39,7.40,7.52,7.89,7.11,7.37])\n",
    "t_digi=np.append(t_digi,[7.46,7.34,7.79,7.09,7.14,7.06,7.35,7.61,7.13])"
   ]
  },
  {
   "cell_type": "code",
   "execution_count": 93,
   "id": "8ad4e447",
   "metadata": {},
   "outputs": [
    {
     "data": {
      "text/plain": [
       "65"
      ]
     },
     "execution_count": 93,
     "metadata": {},
     "output_type": "execute_result"
    }
   ],
   "source": [
    "np.shape(t_digi)\n",
    "t_digi.size"
   ]
  },
  {
   "cell_type": "code",
   "execution_count": 94,
   "id": "02a2a2ef",
   "metadata": {},
   "outputs": [
    {
     "data": {
      "text/plain": [
       "7.375076923076923"
      ]
     },
     "execution_count": 94,
     "metadata": {},
     "output_type": "execute_result"
    }
   ],
   "source": [
    "np.mean(t_digi)"
   ]
  },
  {
   "cell_type": "code",
   "execution_count": 95,
   "id": "0d1e8485",
   "metadata": {},
   "outputs": [
    {
     "data": {
      "text/plain": [
       "7.504"
      ]
     },
     "execution_count": 95,
     "metadata": {},
     "output_type": "execute_result"
    }
   ],
   "source": [
    "np.mean(t_analog)"
   ]
  },
  {
   "cell_type": "markdown",
   "id": "8ddeda49",
   "metadata": {},
   "source": [
    "### Auswertung t_digi"
   ]
  },
  {
   "cell_type": "code",
   "execution_count": 96,
   "id": "be93f765",
   "metadata": {},
   "outputs": [],
   "source": [
    "import statistics as stat"
   ]
  },
  {
   "cell_type": "code",
   "execution_count": 97,
   "id": "a475ed76",
   "metadata": {},
   "outputs": [],
   "source": [
    "variance=(t_digi-np.mean(t_digi))**2/(t_digi.size-1)\n",
    "stdev_digi=np.sqrt(np.sum(variance))\n",
    "\n",
    "messunsicherheit_digi=stdev_digi/t_digi.size"
   ]
  },
  {
   "cell_type": "code",
   "execution_count": 98,
   "id": "2b79e197",
   "metadata": {},
   "outputs": [
    {
     "name": "stdout",
     "output_type": "stream",
     "text": [
      "7.375076923076923\n",
      "0.20693539961878107\n",
      "0.003183621532596632\n"
     ]
    }
   ],
   "source": [
    "print(np.mean(t_digi))\n",
    "print(stdev_digi)\n",
    "print(messunsicherheit_digi)\n"
   ]
  },
  {
   "cell_type": "code",
   "execution_count": 99,
   "id": "d22b72c9",
   "metadata": {},
   "outputs": [
    {
     "data": {
      "text/plain": [
       "7.375"
      ]
     },
     "execution_count": 99,
     "metadata": {},
     "output_type": "execute_result"
    }
   ],
   "source": [
    "np.around(stat.mean(t_digi),3)"
   ]
  },
  {
   "cell_type": "code",
   "execution_count": 100,
   "id": "d4f53b8e",
   "metadata": {},
   "outputs": [
    {
     "data": {
      "text/plain": [
       "0.207"
      ]
     },
     "execution_count": 100,
     "metadata": {},
     "output_type": "execute_result"
    }
   ],
   "source": [
    "np.around(stat.stdev(t_digi),3)"
   ]
  },
  {
   "cell_type": "code",
   "execution_count": 101,
   "id": "19a30f72",
   "metadata": {},
   "outputs": [
    {
     "data": {
      "text/plain": [
       "0.003"
      ]
     },
     "execution_count": 101,
     "metadata": {},
     "output_type": "execute_result"
    }
   ],
   "source": [
    "np.around(stat.stdev(t_digi)/t_digi.size,3)"
   ]
  },
  {
   "cell_type": "code",
   "execution_count": 102,
   "id": "92129d55",
   "metadata": {},
   "outputs": [
    {
     "data": {
      "image/png": "[encoded data removed]",
      "text/plain": [
       "<Figure size 432x288 with 1 Axes>"
      ]
     },
     "metadata": {
      "needs_background": "light"
     },
     "output_type": "display_data"
    }
   ],
   "source": [
    "bconts, bedges, _p = plt.hist(t_digi, bins=np.linspace(6.0, 9.0, 16))\n",
    "plt.ylabel('Häufigkeit')\n",
    "plt.xlabel('Zeit $t$ / s ')\n",
    "plt.show()"
   ]
  },
  {
   "cell_type": "code",
   "execution_count": 103,
   "id": "8b7dc484",
   "metadata": {},
   "outputs": [
    {
     "data": {
      "text/plain": [
       "<AxesSubplot:ylabel='Count'>"
      ]
     },
     "execution_count": 103,
     "metadata": {},
     "output_type": "execute_result"
    },
    {
     "data": {
      "image/png": "[encoded data removed]",
      "text/plain": [
       "<Figure size 432x288 with 1 Axes>"
      ]
     },
     "metadata": {},
     "output_type": "display_data"
    }
   ],
   "source": [
    "import seaborn as sns\n",
    "\n",
    "sns.set_style('darkgrid')\n",
    "sns.histplot(t_digi)"
   ]
  },
  {
   "cell_type": "markdown",
   "id": "7d8cfde3",
   "metadata": {},
   "source": [
    "### Auswertung t_analog"
   ]
  },
  {
   "cell_type": "code",
   "execution_count": 104,
   "id": "5bc6a223",
   "metadata": {},
   "outputs": [
    {
     "name": "stdout",
     "output_type": "stream",
     "text": [
      "7.504\n",
      "50\n"
     ]
    }
   ],
   "source": [
    "print(np.mean(t_analog))\n",
    "print(t_analog.size)"
   ]
  },
  {
   "cell_type": "code",
   "execution_count": 105,
   "id": "ff516a7d",
   "metadata": {},
   "outputs": [],
   "source": [
    "variance=(t_analog-np.mean(t_analog))**2/(t_analog.size-1)\n",
    "stdev_analog=np.sqrt(np.sum(variance))\n",
    "messunsicherheit_analog=stdev_analog/t_analog.size"
   ]
  },
  {
   "cell_type": "code",
   "execution_count": 106,
   "id": "e8add410",
   "metadata": {},
   "outputs": [
    {
     "name": "stdout",
     "output_type": "stream",
     "text": [
      "7.504\n",
      "0.2626085781274526\n",
      "0.0052521715625490515\n"
     ]
    }
   ],
   "source": [
    "print(np.mean(t_analog))\n",
    "print(stdev_analog)\n",
    "print(messunsicherheit_analog)"
   ]
  },
  {
   "cell_type": "code",
   "execution_count": 107,
   "id": "9a82cfa2",
   "metadata": {},
   "outputs": [
    {
     "data": {
      "text/plain": [
       "7.5"
      ]
     },
     "execution_count": 107,
     "metadata": {},
     "output_type": "execute_result"
    }
   ],
   "source": [
    "np.around(stat.mean(t_analog),2)"
   ]
  },
  {
   "cell_type": "code",
   "execution_count": 108,
   "id": "fd62d316",
   "metadata": {},
   "outputs": [
    {
     "data": {
      "text/plain": [
       "0.263"
      ]
     },
     "execution_count": 108,
     "metadata": {},
     "output_type": "execute_result"
    }
   ],
   "source": [
    "np.around(stat.stdev(t_analog),3)"
   ]
  },
  {
   "cell_type": "code",
   "execution_count": 109,
   "id": "9f042737",
   "metadata": {},
   "outputs": [
    {
     "data": {
      "text/plain": [
       "0.005"
      ]
     },
     "execution_count": 109,
     "metadata": {},
     "output_type": "execute_result"
    }
   ],
   "source": [
    "np.around(stat.stdev(t_analog)/t_analog.size,3)"
   ]
  },
  {
   "cell_type": "code",
   "execution_count": 110,
   "id": "0230876d",
   "metadata": {},
   "outputs": [
    {
     "data": {
      "image/png": "[encoded data removed]",
      "text/plain": [
       "<Figure size 432x288 with 1 Axes>"
      ]
     },
     "metadata": {},
     "output_type": "display_data"
    }
   ],
   "source": [
    "bconts, bedges, _p = plt.hist(t_analog, bins=np.linspace(6.0, 9.0, 16))\n",
    "plt.ylabel('Häufigkeit')\n",
    "plt.xlabel('Zeit $t$ / s ')\n",
    "plt.show()"
   ]
  },
  {
   "cell_type": "code",
   "execution_count": 111,
   "id": "44701e45",
   "metadata": {},
   "outputs": [
    {
     "data": {
      "text/plain": [
       "array([ True,  True,  True, False, False,  True, False,  True,  True,\n",
       "        True, False, False, False,  True])"
      ]
     },
     "execution_count": 111,
     "metadata": {},
     "output_type": "execute_result"
    }
   ],
   "source": [
    "np.abs(t_analog_test-stat.mean(t_analog_train))<stat.stdev(t_analog_train)"
   ]
  },
  {
   "cell_type": "code",
   "execution_count": 112,
   "id": "90b885e3",
   "metadata": {},
   "outputs": [
    {
     "data": {
      "text/plain": [
       "<AxesSubplot:ylabel='Count'>"
      ]
     },
     "execution_count": 112,
     "metadata": {},
     "output_type": "execute_result"
    },
    {
     "data": {
      "image/png": "[encoded data removed]",
      "text/plain": [
       "<Figure size 432x288 with 1 Axes>"
      ]
     },
     "metadata": {},
     "output_type": "display_data"
    }
   ],
   "source": [
    "import seaborn as sns\n",
    "\n",
    "sns.set_style('darkgrid')\n",
    "sns.histplot(t_analog)"
   ]
  },
  {
   "cell_type": "code",
   "execution_count": 113,
   "id": "07797924",
   "metadata": {},
   "outputs": [
    {
     "data": {
      "text/plain": [
       "0.5"
      ]
     },
     "execution_count": 113,
     "metadata": {},
     "output_type": "execute_result"
    }
   ],
   "source": [
    "np.sum(np.abs(t_analog-stat.mean(t_analog))<stat.stdev(t_analog))/t_analog.size"
   ]
  },
  {
   "cell_type": "code",
   "execution_count": 114,
   "id": "7eb8160a",
   "metadata": {},
   "outputs": [
    {
     "data": {
      "text/plain": [
       "0.5"
      ]
     },
     "execution_count": 114,
     "metadata": {},
     "output_type": "execute_result"
    }
   ],
   "source": [
    "np.sum(np.abs(t_analog-stat.mean(t_analog))>stat.stdev(t_analog))/t_analog.size"
   ]
  },
  {
   "cell_type": "markdown",
   "id": "f6297cfb",
   "metadata": {},
   "source": [
    "# Jahresauswertung"
   ]
  },
  {
   "cell_type": "code",
   "execution_count": 115,
   "id": "10c532ea",
   "metadata": {},
   "outputs": [],
   "source": [
    "import pandas as pd\n",
    "import statistics as stat\n",
    "import seaborn as sns"
   ]
  },
  {
   "cell_type": "code",
   "execution_count": 116,
   "id": "9fdbcd02",
   "metadata": {},
   "outputs": [],
   "source": [
    "data = pd.read_csv(\"WS21-22_Daten.csv\")"
   ]
  },
  {
   "cell_type": "code",
   "execution_count": 117,
   "id": "324b6b06",
   "metadata": {},
   "outputs": [
    {
     "data": {
      "text/html": [
       "<div>\n",
       "<style scoped>\n",
       "    .dataframe tbody tr th:only-of-type {\n",
       "        vertical-align: middle;\n",
       "    }\n",
       "\n",
       "    .dataframe tbody tr th {\n",
       "        vertical-align: top;\n",
       "    }\n",
       "\n",
       "    .dataframe thead th {\n",
       "        text-align: right;\n",
       "    }\n",
       "</style>\n",
       "<table border=\"1\" class=\"dataframe\">\n",
       "  <thead>\n",
       "    <tr style=\"text-align: right;\">\n",
       "      <th></th>\n",
       "      <th>Gruppe</th>\n",
       "      <th>u</th>\n",
       "      <th>v</th>\n",
       "      <th>Felge</th>\n",
       "      <th>J</th>\n",
       "      <th>l</th>\n",
       "      <th>rho</th>\n",
       "    </tr>\n",
       "  </thead>\n",
       "  <tbody>\n",
       "    <tr>\n",
       "      <th>0</th>\n",
       "      <td>A</td>\n",
       "      <td>3.714</td>\n",
       "      <td>-3.290</td>\n",
       "      <td>10.0</td>\n",
       "      <td>0.0594</td>\n",
       "      <td>78.62</td>\n",
       "      <td>NaN</td>\n",
       "    </tr>\n",
       "    <tr>\n",
       "      <th>1</th>\n",
       "      <td>A</td>\n",
       "      <td>4.036</td>\n",
       "      <td>-3.000</td>\n",
       "      <td>7.0</td>\n",
       "      <td>0.0537</td>\n",
       "      <td>78.00</td>\n",
       "      <td>NaN</td>\n",
       "    </tr>\n",
       "    <tr>\n",
       "      <th>2</th>\n",
       "      <td>A</td>\n",
       "      <td>3.730</td>\n",
       "      <td>-3.360</td>\n",
       "      <td>3.0</td>\n",
       "      <td>NaN</td>\n",
       "      <td>NaN</td>\n",
       "      <td>NaN</td>\n",
       "    </tr>\n",
       "    <tr>\n",
       "      <th>3</th>\n",
       "      <td>A</td>\n",
       "      <td>4.000</td>\n",
       "      <td>-3.250</td>\n",
       "      <td>NaN</td>\n",
       "      <td>NaN</td>\n",
       "      <td>NaN</td>\n",
       "      <td>NaN</td>\n",
       "    </tr>\n",
       "    <tr>\n",
       "      <th>4</th>\n",
       "      <td>NaN</td>\n",
       "      <td>NaN</td>\n",
       "      <td>NaN</td>\n",
       "      <td>NaN</td>\n",
       "      <td>NaN</td>\n",
       "      <td>NaN</td>\n",
       "      <td>NaN</td>\n",
       "    </tr>\n",
       "    <tr>\n",
       "      <th>...</th>\n",
       "      <td>...</td>\n",
       "      <td>...</td>\n",
       "      <td>...</td>\n",
       "      <td>...</td>\n",
       "      <td>...</td>\n",
       "      <td>...</td>\n",
       "      <td>...</td>\n",
       "    </tr>\n",
       "    <tr>\n",
       "      <th>117</th>\n",
       "      <td>NaN</td>\n",
       "      <td>NaN</td>\n",
       "      <td>NaN</td>\n",
       "      <td>NaN</td>\n",
       "      <td>NaN</td>\n",
       "      <td>NaN</td>\n",
       "      <td>NaN</td>\n",
       "    </tr>\n",
       "    <tr>\n",
       "      <th>118</th>\n",
       "      <td>Z2</td>\n",
       "      <td>4.370</td>\n",
       "      <td>-2.760</td>\n",
       "      <td>6.0</td>\n",
       "      <td>0.0910</td>\n",
       "      <td>89.67</td>\n",
       "      <td>0.0225</td>\n",
       "    </tr>\n",
       "    <tr>\n",
       "      <th>119</th>\n",
       "      <td>Z3</td>\n",
       "      <td>3.944</td>\n",
       "      <td>-2.814</td>\n",
       "      <td>5.0</td>\n",
       "      <td>0.0860</td>\n",
       "      <td>62.00</td>\n",
       "      <td>0.022</td>\n",
       "    </tr>\n",
       "    <tr>\n",
       "      <th>120</th>\n",
       "      <td>Z4</td>\n",
       "      <td>4.070</td>\n",
       "      <td>-3.140</td>\n",
       "      <td>2.0</td>\n",
       "      <td>0.0407</td>\n",
       "      <td>NaN</td>\n",
       "      <td>NaN</td>\n",
       "    </tr>\n",
       "    <tr>\n",
       "      <th>121</th>\n",
       "      <td>Z5</td>\n",
       "      <td>4.027</td>\n",
       "      <td>-2.900</td>\n",
       "      <td>NaN</td>\n",
       "      <td>NaN</td>\n",
       "      <td>NaN</td>\n",
       "      <td>NaN</td>\n",
       "    </tr>\n",
       "  </tbody>\n",
       "</table>\n",
       "<p>122 rows × 7 columns</p>\n",
       "</div>"
      ],
      "text/plain": [
       "    Gruppe      u      v  Felge       J      l     rho\n",
       "0        A  3.714 -3.290   10.0  0.0594  78.62     NaN\n",
       "1        A  4.036 -3.000    7.0  0.0537  78.00     NaN\n",
       "2        A  3.730 -3.360    3.0     NaN    NaN     NaN\n",
       "3        A  4.000 -3.250    NaN     NaN    NaN     NaN\n",
       "4      NaN    NaN    NaN    NaN     NaN    NaN     NaN\n",
       "..     ...    ...    ...    ...     ...    ...     ...\n",
       "117    NaN    NaN    NaN    NaN     NaN    NaN     NaN\n",
       "118     Z2  4.370 -2.760    6.0  0.0910  89.67  0.0225\n",
       "119     Z3  3.944 -2.814    5.0  0.0860  62.00   0.022\n",
       "120     Z4  4.070 -3.140    2.0  0.0407    NaN     NaN\n",
       "121     Z5  4.027 -2.900    NaN     NaN    NaN     NaN\n",
       "\n",
       "[122 rows x 7 columns]"
      ]
     },
     "execution_count": 117,
     "metadata": {},
     "output_type": "execute_result"
    }
   ],
   "source": [
    "data"
   ]
  },
  {
   "cell_type": "code",
   "execution_count": null,
   "id": "9c628eff",
   "metadata": {},
   "outputs": [],
   "source": []
  },
  {
   "cell_type": "code",
   "execution_count": 118,
   "id": "a1409c4a",
   "metadata": {},
   "outputs": [
    {
     "data": {
      "text/plain": [
       "array([[<AxesSubplot:title={'center':'u'}>]], dtype=object)"
      ]
     },
     "execution_count": 118,
     "metadata": {},
     "output_type": "execute_result"
    },
    {
     "data": {
      "image/png": "[encoded data removed]",
      "text/plain": [
       "<Figure size 432x288 with 1 Axes>"
      ]
     },
     "metadata": {},
     "output_type": "display_data"
    }
   ],
   "source": [
    "data.hist(column=\"u\")"
   ]
  },
  {
   "cell_type": "code",
   "execution_count": 119,
   "id": "0b6059a8",
   "metadata": {},
   "outputs": [
    {
     "data": {
      "text/plain": [
       "array([[<AxesSubplot:title={'center':'v'}>]], dtype=object)"
      ]
     },
     "execution_count": 119,
     "metadata": {},
     "output_type": "execute_result"
    },
    {
     "data": {
      "image/png": "[encoded data removed]",
      "text/plain": [
       "<Figure size 432x288 with 1 Axes>"
      ]
     },
     "metadata": {},
     "output_type": "display_data"
    }
   ],
   "source": [
    "data.hist(column=\"v\")"
   ]
  },
  {
   "cell_type": "code",
   "execution_count": 120,
   "id": "80371fe9",
   "metadata": {},
   "outputs": [],
   "source": [
    "u=data.u"
   ]
  },
  {
   "cell_type": "code",
   "execution_count": 121,
   "id": "c4dd3639",
   "metadata": {},
   "outputs": [],
   "source": [
    "v=data.v"
   ]
  },
  {
   "cell_type": "code",
   "execution_count": 122,
   "id": "cc0a567d",
   "metadata": {},
   "outputs": [
    {
     "data": {
      "text/plain": [
       "Text(4.233539277108434, 10.0, '4.0319')"
      ]
     },
     "execution_count": 122,
     "metadata": {},
     "output_type": "execute_result"
    },
    {
     "data": {
      "image/png": "[encoded data removed]",
      "text/plain": [
       "<Figure size 360x360 with 1 Axes>"
      ]
     },
     "metadata": {},
     "output_type": "display_data"
    }
   ],
   "source": [
    "sns.set_style('darkgrid')\n",
    "sns.displot(u,legend=True,kde=True)\n",
    "plt.axvline(x=data.u.mean(),\n",
    "            color='red')\n",
    "plt.legend('u')\n",
    "plt.text(x=data.u.mean()*1.05,y=10.0,s=np.around(data.u.mean(),4))"
   ]
  },
  {
   "cell_type": "code",
   "execution_count": 123,
   "id": "bbc307a7",
   "metadata": {},
   "outputs": [
    {
     "data": {
      "text/plain": [
       "Text(-3.2373700000000007, 10.0, '-3.0832')"
      ]
     },
     "execution_count": 123,
     "metadata": {},
     "output_type": "execute_result"
    },
    {
     "data": {
      "image/png": "[encoded data removed]",
      "text/plain": [
       "<Figure size 360x360 with 1 Axes>"
      ]
     },
     "metadata": {},
     "output_type": "display_data"
    }
   ],
   "source": [
    "sns.set_style('darkgrid')\n",
    "sns.displot(v,legend=True,kde=True)\n",
    "plt.axvline(x=data.v.mean(),\n",
    "            color='red')\n",
    "plt.text(x=data.v.mean()*1.05,y=10.0,s=np.around(data.v.mean(),4))"
   ]
  },
  {
   "cell_type": "code",
   "execution_count": 124,
   "id": "09d58618",
   "metadata": {},
   "outputs": [
    {
     "data": {
      "text/plain": [
       "u         4.031942\n",
       "v        -3.083210\n",
       "Felge     5.268293\n",
       "J         0.080626\n",
       "l        98.615836\n",
       "dtype: float64"
      ]
     },
     "execution_count": 124,
     "metadata": {},
     "output_type": "execute_result"
    }
   ],
   "source": [
    "data.mean()"
   ]
  },
  {
   "cell_type": "code",
   "execution_count": 125,
   "id": "4cb2715a",
   "metadata": {},
   "outputs": [
    {
     "data": {
      "text/plain": [
       "u         0.245794\n",
       "v         0.260452\n",
       "Felge     2.867652\n",
       "J         0.078659\n",
       "l        32.894449\n",
       "dtype: float64"
      ]
     },
     "execution_count": 125,
     "metadata": {},
     "output_type": "execute_result"
    }
   ],
   "source": [
    "data.std()"
   ]
  },
  {
   "cell_type": "code",
   "execution_count": 126,
   "id": "4d54273e",
   "metadata": {},
   "outputs": [
    {
     "data": {
      "text/plain": [
       "Gruppe    99\n",
       "u         83\n",
       "v         84\n",
       "Felge     82\n",
       "J         78\n",
       "l         67\n",
       "rho       61\n",
       "dtype: int64"
      ]
     },
     "execution_count": 126,
     "metadata": {},
     "output_type": "execute_result"
    }
   ],
   "source": [
    "data.count()"
   ]
  },
  {
   "cell_type": "code",
   "execution_count": 127,
   "id": "516f7a28",
   "metadata": {},
   "outputs": [
    {
     "data": {
      "text/plain": [
       "Felge     0.316679\n",
       "Gruppe         NaN\n",
       "J         0.008906\n",
       "l         4.018697\n",
       "rho            NaN\n",
       "u         0.026979\n",
       "v         0.028418\n",
       "dtype: float64"
      ]
     },
     "execution_count": 127,
     "metadata": {},
     "output_type": "execute_result"
    }
   ],
   "source": [
    "data.std()/np.sqrt(data.count())"
   ]
  },
  {
   "cell_type": "code",
   "execution_count": 128,
   "id": "c7ddba17",
   "metadata": {},
   "outputs": [
    {
     "name": "stderr",
     "output_type": "stream",
     "text": [
      "/Users/ce4714e/opt/anaconda3/lib/python3.8/site-packages/seaborn/_decorators.py:36: FutureWarning: Pass the following variables as keyword args: x, y, data. From version 0.12, the only valid positional argument will be `data`, and passing other arguments without an explicit keyword will result in an error or misinterpretation.\n",
      "  warnings.warn(\n"
     ]
    },
    {
     "data": {
      "image/png": "[encoded data removed]",
      "text/plain": [
       "<Figure size 432x432 with 3 Axes>"
      ]
     },
     "metadata": {},
     "output_type": "display_data"
    }
   ],
   "source": [
    "with sns.axes_style('white'):\n",
    "    graph = sns.jointplot(\"u\", \"v\", data, kind='hex')\n"
   ]
  },
  {
   "cell_type": "code",
   "execution_count": 129,
   "id": "19af1754",
   "metadata": {},
   "outputs": [
    {
     "data": {
      "text/plain": [
       "Text(0.08465692307692312, 10.0, '0.0806')"
      ]
     },
     "execution_count": 129,
     "metadata": {},
     "output_type": "execute_result"
    },
    {
     "data": {
      "image/png": "[encoded data removed]",
      "text/plain": [
       "<Figure size 360x360 with 1 Axes>"
      ]
     },
     "metadata": {},
     "output_type": "display_data"
    }
   ],
   "source": [
    "sns.set_style('darkgrid')\n",
    "sns.displot(data.J,legend=True,kde=True)\n",
    "plt.axvline(x=data.J.mean(),\n",
    "            color='red')\n",
    "plt.legend('J')\n",
    "plt.text(x=data.J.mean()*1.05,y=10.0,s=np.around(data.J.mean(),4))"
   ]
  },
  {
   "cell_type": "code",
   "execution_count": 130,
   "id": "c39923c5",
   "metadata": {},
   "outputs": [
    {
     "data": {
      "image/png": "[encoded data removed]",
      "text/plain": [
       "<Figure size 432x288 with 1 Axes>"
      ]
     },
     "metadata": {},
     "output_type": "display_data"
    }
   ],
   "source": [
    "l_mess=data.l\n",
    "bconts, bedges, _p = plt.hist(l_mess, bins=np.linspace(0, 200, 32))\n",
    "plt.ylabel('Häufigkeit')\n",
    "plt.xlabel('Länge $l$ / m ')\n",
    "plt.show()"
   ]
  },
  {
   "cell_type": "code",
   "execution_count": 134,
   "id": "08ad1467",
   "metadata": {},
   "outputs": [
    {
     "name": "stdout",
     "output_type": "stream",
     "text": [
      "The watermark extension is already loaded. To reload it, use:\n",
      "  %reload_ext watermark\n",
      "Python implementation: CPython\n",
      "Python version       : 3.8.8\n",
      "IPython version      : 7.22.0\n",
      "\n",
      "numpy     : 1.20.1\n",
      "sns       : 0.1\n",
      "sklearn   : 0.0\n",
      "scipy     : 1.6.2\n",
      "pandas    : 1.2.4\n",
      "watermark : 2.3.0\n",
      "matplotlib: 3.3.4\n",
      "\n",
      "Compiler    : Clang 10.0.0 \n",
      "OS          : Darwin\n",
      "Release     : 21.2.0\n",
      "Machine     : x86_64\n",
      "Processor   : i386\n",
      "CPU cores   : 8\n",
      "Architecture: 64bit\n",
      "\n"
     ]
    }
   ],
   "source": [
    "%load_ext watermark\n",
    "%watermark -v -m -p numpy,sns,sklearn,scipy,pandas,watermark,matplotlib"
   ]
  },
  {
   "cell_type": "code",
   "execution_count": null,
   "id": "c672d775",
   "metadata": {},
   "outputs": [],
   "source": [
    "\n"
   ]
  },
  {
   "cell_type": "code",
   "execution_count": null,
   "id": "a56c26ce",
   "metadata": {},
   "outputs": [],
   "source": [
    "\n"
   ]
  },
  {
   "cell_type": "code",
   "execution_count": null,
   "id": "35fdc02f",
   "metadata": {},
   "outputs": [],
   "source": []
  },
  {
   "cell_type": "code",
   "execution_count": null,
   "id": "5555b48c",
   "metadata": {},
   "outputs": [],
   "source": []
  },
  {
   "cell_type": "code",
   "execution_count": null,
   "id": "2ba91718-ac0b-4925-b28f-6a35aab95770",
   "metadata": {},
   "outputs": [],
   "source": []
  },
  {
   "cell_type": "code",
   "execution_count": null,
   "id": "6e2ddcb1-72a7-463e-9594-91e8bae76fe4",
   "metadata": {},
   "outputs": [],
   "source": []
  }
 ],
 "metadata": {
  "kernelspec": {
   "display_name": "Python 3",
   "language": "python",
   "name": "python3"
  },
  "language_info": {
   "codemirror_mode": {
    "name": "ipython",
    "version": 3
   },
   "file_extension": ".py",
   "mimetype": "text/x-python",
   "name": "python",
   "nbconvert_exporter": "python",
   "pygments_lexer": "ipython3",
   "version": "3.8.8"
  },
  "latex_envs": {
   "LaTeX_envs_menu_present": true,
   "autoclose": true,
   "autocomplete": true,
   "bibliofile": "biblio.bib",
   "cite_by": "apalike",
   "current_citInitial": 1,
   "eqLabelWithNumbers": true,
   "eqNumInitial": 1,
   "hotkeys": {
    "equation": "Ctrl-E",
    "itemize": "Ctrl-I"
   },
   "labels_anchors": false,
   "latex_user_defs": false,
   "report_style_numbering": false,
   "user_envs_cfg": false
  }
 },
 "nbformat": 4,
 "nbformat_minor": 5
}
